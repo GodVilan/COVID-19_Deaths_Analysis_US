{
 "cells": [
  {
   "cell_type": "markdown",
   "id": "155fd615-74ea-4a25-ac28-dbdac8f8a52d",
   "metadata": {},
   "source": [
    "# COVID-19 Deaths Analysis United States\n"
   ]
  },
  {
   "cell_type": "code",
   "execution_count": 14,
   "id": "2ba89bd2",
   "metadata": {},
   "outputs": [],
   "source": [
    "# %pip install pandas plotly scikit-learn statsmodels matplotlib"
   ]
  },
  {
   "cell_type": "code",
   "execution_count": 15,
   "id": "dd3ef661",
   "metadata": {},
   "outputs": [],
   "source": [
    "# Import libraries\n",
    "import pandas as pd\n",
    "import numpy as np\n",
    "import plotly.express as px\n",
    "import plotly.graph_objects as go\n",
    "from sklearn.preprocessing import StandardScaler\n",
    "from sklearn.cluster import KMeans\n",
    "from statsmodels.tsa.api import ExponentialSmoothing\n",
    "import matplotlib.pyplot as plt\n",
    "import warnings\n",
    "warnings.filterwarnings('ignore')"
   ]
  },
  {
   "cell_type": "markdown",
   "id": "48edf844-23c2-467b-b5f5-33b2e1429fdf",
   "metadata": {},
   "source": [
    "# 🔹 Data Cleaning & Preprocessing"
   ]
  },
  {
   "cell_type": "code",
   "execution_count": 16,
   "id": "6754bd5b",
   "metadata": {},
   "outputs": [],
   "source": [
    "# Load dataset\n",
    "df = pd.read_csv(\"COVID_19_Dataset.csv\")\n",
    "\n",
    "# Convert 'data_as_of' to datetime\n",
    "df[\"data_as_of\"] = pd.to_datetime(df[\"data_as_of\"], errors=\"coerce\")\n",
    "\n",
    "# Clean 'year' column (remove commas, convert to int)\n",
    "df[\"year\"] = df[\"year\"].astype(str).str.replace(\",\", \"\", regex=True)\n",
    "df[\"year\"] = pd.to_numeric(df[\"year\"], errors=\"coerce\")\n",
    "\n",
    "# Ensure 'month' is numeric\n",
    "df[\"month\"] = pd.to_numeric(df[\"month\"], errors=\"coerce\")\n",
    "\n",
    "# Create a 'date' column from year and month\n",
    "df[\"date\"] = pd.to_datetime(df[[\"year\", \"month\"]].assign(day=1), errors=\"coerce\")\n",
    "\n",
    "# Clean 'COVID_deaths' column (remove commas, convert to numeric)\n",
    "df[\"COVID_deaths\"] = (\n",
    "    df[\"COVID_deaths\"].astype(str).str.replace(\",\", \"\", regex=True)\n",
    ")\n",
    "df[\"COVID_deaths\"] = pd.to_numeric(df[\"COVID_deaths\"], errors=\"coerce\")\n",
    "\n",
    "# Filtering the United States Data\n",
    "df_us = df[df[\"jurisdiction_residence\"] == \"United States\"]\n",
    "\n",
    "# Drop rows with missing death counts\n",
    "df_us_clean = df_us.dropna(subset=[\"COVID_deaths\"]).sort_values(by=\"date\")\n"
   ]
  },
  {
   "cell_type": "markdown",
   "id": "1e934c5b-dfe2-450b-ac41-3c3b8ea852fa",
   "metadata": {},
   "source": [
    "# 🔹 Time Series Line Plot — Total Deaths Over Time"
   ]
  },
  {
   "cell_type": "code",
   "execution_count": 17,
   "id": "ce60b2c3",
   "metadata": {},
   "outputs": [],
   "source": [
    "# %pip install nbformat\n",
    "# Mime type rendering requires nbformat>=4.2.0\n"
   ]
  },
  {
   "cell_type": "code",
   "execution_count": 18,
   "id": "1a658018",
   "metadata": {},
   "outputs": [
    {
     "data": {
      "application/vnd.plotly.v1+json": {
       "config": {
        "plotlyServerURL": "https://plot.ly"
       },
       "data": [
        {
         "hovertemplate": "Date=%{x}<br>Deaths=%{y}<extra></extra>",
         "legendgroup": "",
         "line": {
          "color": "#636efa",
          "dash": "solid"
         },
         "marker": {
          "symbol": "circle"
         },
         "mode": "lines+markers",
         "name": "",
         "orientation": "v",
         "showlegend": false,
         "type": "scatter",
         "x": [
          "2020-01-01T00:00:00.000000000",
          "2020-02-01T00:00:00.000000000",
          "2020-03-01T00:00:00.000000000",
          "2020-04-01T00:00:00.000000000",
          "2020-05-01T00:00:00.000000000",
          "2020-06-01T00:00:00.000000000",
          "2020-07-01T00:00:00.000000000",
          "2020-08-01T00:00:00.000000000",
          "2020-09-01T00:00:00.000000000",
          "2020-10-01T00:00:00.000000000",
          "2020-11-01T00:00:00.000000000",
          "2020-12-01T00:00:00.000000000",
          "2021-01-01T00:00:00.000000000",
          "2021-02-01T00:00:00.000000000",
          "2021-03-01T00:00:00.000000000",
          "2021-04-01T00:00:00.000000000",
          "2021-05-01T00:00:00.000000000",
          "2021-06-01T00:00:00.000000000",
          "2021-07-01T00:00:00.000000000",
          "2021-08-01T00:00:00.000000000",
          "2021-09-01T00:00:00.000000000",
          "2021-10-01T00:00:00.000000000",
          "2021-11-01T00:00:00.000000000",
          "2021-12-01T00:00:00.000000000",
          "2022-01-01T00:00:00.000000000",
          "2022-02-01T00:00:00.000000000",
          "2022-03-01T00:00:00.000000000",
          "2022-04-01T00:00:00.000000000",
          "2022-05-01T00:00:00.000000000",
          "2022-06-01T00:00:00.000000000",
          "2022-07-01T00:00:00.000000000",
          "2022-08-01T00:00:00.000000000",
          "2022-09-01T00:00:00.000000000",
          "2022-10-01T00:00:00.000000000",
          "2022-11-01T00:00:00.000000000",
          "2022-12-01T00:00:00.000000000",
          "2023-01-01T00:00:00.000000000",
          "2023-02-01T00:00:00.000000000",
          "2023-03-01T00:00:00.000000000",
          "2023-04-01T00:00:00.000000000",
          "2023-05-01T00:00:00.000000000",
          "2023-06-01T00:00:00.000000000",
          "2023-07-01T00:00:00.000000000",
          "2023-08-01T00:00:00.000000000",
          "2023-09-01T00:00:00.000000000",
          "2023-10-01T00:00:00.000000000",
          "2023-11-01T00:00:00.000000000",
          "2023-12-01T00:00:00.000000000",
          "2024-01-01T00:00:00.000000000",
          "2024-02-01T00:00:00.000000000",
          "2024-03-01T00:00:00.000000000",
          "2024-04-01T00:00:00.000000000",
          "2024-05-01T00:00:00.000000000",
          "2024-06-01T00:00:00.000000000",
          "2024-07-01T00:00:00.000000000",
          "2024-08-01T00:00:00.000000000",
          "2024-09-01T00:00:00.000000000",
          "2024-10-01T00:00:00.000000000",
          "2024-11-01T00:00:00.000000000",
          "2024-12-01T00:00:00.000000000",
          "2025-01-01T00:00:00.000000000",
          "2025-02-01T00:00:00.000000000",
          "2025-03-01T00:00:00.000000000",
          "2025-04-01T00:00:00.000000000",
          "2025-05-01T00:00:00.000000000",
          "2025-06-01T00:00:00.000000000",
          "2025-07-01T00:00:00.000000000",
          "2025-08-01T00:00:00.000000000"
         ],
         "xaxis": "x",
         "y": {
          "bdata": "AAAAAAAAOEAAAAAAAIBZQAAAAAAAmtxAAAAAAJhHEEEAAAAAgAQDQQAAAAAA4PFAAAAAAICy/kAAAAAAAIT9QAAAAABA9PJAAAAAAOCG+EAAAAAAUDQKQQAAAAAwThhBAAAAALBBGkEAAAAAYCsIQQAAAADAJ/dAAAAAANCe8kAAAAAAQI3tQAAAAAAAgd9AAAAAAIAM5kAAAAAAoPUHQQAAAABgHA9BAAAAAEDlBEEAAAAAQLf/QAAAAACIYwZBAAAAALyvFEEAAAAAEMwIQQAAAABA2+5AAAAAAID32EAAAAAAAE3eQAAAAACA9+JAAAAAAACk6kAAAAAAABLsQAAAAADAFeZAAAAAAEBH40AAAAAAAAHkQAAAAADAwOxAAAAAAEB07UAAAAAAAMzhQAAAAACAFt5AAAAAAIBx1EAAAAAAAP7LQAAAAAAAhsRAAAAAAADEwkAAAAAAgBTQQAAAAACAlddAAAAAAABb10AAAAAAgJnYQAAAAAAAA+FAAAAAAMBF5EAAAAAAANbXQAAAAACAdNBAAAAAAACWwUAAAAAAAEi4QAAAAAAApLpAAAAAAACDyUAAAAAAAJjUQAAAAACAYtNAAAAAAAAwykAAAAAAAHbBQAAAAAAAbcVAAAAAAAAt0UAAAAAAABnIQAAAAAAAC8JAAAAAAADuuEAAAAAAAAywQAAAAAAAYKhAAAAAAABYqkAAAAAAAO6yQA==",
          "dtype": "f8"
         },
         "yaxis": "y"
        }
       ],
       "layout": {
        "legend": {
         "tracegroupgap": 0
        },
        "template": {
         "data": {
          "bar": [
           {
            "error_x": {
             "color": "#2a3f5f"
            },
            "error_y": {
             "color": "#2a3f5f"
            },
            "marker": {
             "line": {
              "color": "white",
              "width": 0.5
             },
             "pattern": {
              "fillmode": "overlay",
              "size": 10,
              "solidity": 0.2
             }
            },
            "type": "bar"
           }
          ],
          "barpolar": [
           {
            "marker": {
             "line": {
              "color": "white",
              "width": 0.5
             },
             "pattern": {
              "fillmode": "overlay",
              "size": 10,
              "solidity": 0.2
             }
            },
            "type": "barpolar"
           }
          ],
          "carpet": [
           {
            "aaxis": {
             "endlinecolor": "#2a3f5f",
             "gridcolor": "#C8D4E3",
             "linecolor": "#C8D4E3",
             "minorgridcolor": "#C8D4E3",
             "startlinecolor": "#2a3f5f"
            },
            "baxis": {
             "endlinecolor": "#2a3f5f",
             "gridcolor": "#C8D4E3",
             "linecolor": "#C8D4E3",
             "minorgridcolor": "#C8D4E3",
             "startlinecolor": "#2a3f5f"
            },
            "type": "carpet"
           }
          ],
          "choropleth": [
           {
            "colorbar": {
             "outlinewidth": 0,
             "ticks": ""
            },
            "type": "choropleth"
           }
          ],
          "contour": [
           {
            "colorbar": {
             "outlinewidth": 0,
             "ticks": ""
            },
            "colorscale": [
             [
              0,
              "#0d0887"
             ],
             [
              0.1111111111111111,
              "#46039f"
             ],
             [
              0.2222222222222222,
              "#7201a8"
             ],
             [
              0.3333333333333333,
              "#9c179e"
             ],
             [
              0.4444444444444444,
              "#bd3786"
             ],
             [
              0.5555555555555556,
              "#d8576b"
             ],
             [
              0.6666666666666666,
              "#ed7953"
             ],
             [
              0.7777777777777778,
              "#fb9f3a"
             ],
             [
              0.8888888888888888,
              "#fdca26"
             ],
             [
              1,
              "#f0f921"
             ]
            ],
            "type": "contour"
           }
          ],
          "contourcarpet": [
           {
            "colorbar": {
             "outlinewidth": 0,
             "ticks": ""
            },
            "type": "contourcarpet"
           }
          ],
          "heatmap": [
           {
            "colorbar": {
             "outlinewidth": 0,
             "ticks": ""
            },
            "colorscale": [
             [
              0,
              "#0d0887"
             ],
             [
              0.1111111111111111,
              "#46039f"
             ],
             [
              0.2222222222222222,
              "#7201a8"
             ],
             [
              0.3333333333333333,
              "#9c179e"
             ],
             [
              0.4444444444444444,
              "#bd3786"
             ],
             [
              0.5555555555555556,
              "#d8576b"
             ],
             [
              0.6666666666666666,
              "#ed7953"
             ],
             [
              0.7777777777777778,
              "#fb9f3a"
             ],
             [
              0.8888888888888888,
              "#fdca26"
             ],
             [
              1,
              "#f0f921"
             ]
            ],
            "type": "heatmap"
           }
          ],
          "histogram": [
           {
            "marker": {
             "pattern": {
              "fillmode": "overlay",
              "size": 10,
              "solidity": 0.2
             }
            },
            "type": "histogram"
           }
          ],
          "histogram2d": [
           {
            "colorbar": {
             "outlinewidth": 0,
             "ticks": ""
            },
            "colorscale": [
             [
              0,
              "#0d0887"
             ],
             [
              0.1111111111111111,
              "#46039f"
             ],
             [
              0.2222222222222222,
              "#7201a8"
             ],
             [
              0.3333333333333333,
              "#9c179e"
             ],
             [
              0.4444444444444444,
              "#bd3786"
             ],
             [
              0.5555555555555556,
              "#d8576b"
             ],
             [
              0.6666666666666666,
              "#ed7953"
             ],
             [
              0.7777777777777778,
              "#fb9f3a"
             ],
             [
              0.8888888888888888,
              "#fdca26"
             ],
             [
              1,
              "#f0f921"
             ]
            ],
            "type": "histogram2d"
           }
          ],
          "histogram2dcontour": [
           {
            "colorbar": {
             "outlinewidth": 0,
             "ticks": ""
            },
            "colorscale": [
             [
              0,
              "#0d0887"
             ],
             [
              0.1111111111111111,
              "#46039f"
             ],
             [
              0.2222222222222222,
              "#7201a8"
             ],
             [
              0.3333333333333333,
              "#9c179e"
             ],
             [
              0.4444444444444444,
              "#bd3786"
             ],
             [
              0.5555555555555556,
              "#d8576b"
             ],
             [
              0.6666666666666666,
              "#ed7953"
             ],
             [
              0.7777777777777778,
              "#fb9f3a"
             ],
             [
              0.8888888888888888,
              "#fdca26"
             ],
             [
              1,
              "#f0f921"
             ]
            ],
            "type": "histogram2dcontour"
           }
          ],
          "mesh3d": [
           {
            "colorbar": {
             "outlinewidth": 0,
             "ticks": ""
            },
            "type": "mesh3d"
           }
          ],
          "parcoords": [
           {
            "line": {
             "colorbar": {
              "outlinewidth": 0,
              "ticks": ""
             }
            },
            "type": "parcoords"
           }
          ],
          "pie": [
           {
            "automargin": true,
            "type": "pie"
           }
          ],
          "scatter": [
           {
            "fillpattern": {
             "fillmode": "overlay",
             "size": 10,
             "solidity": 0.2
            },
            "type": "scatter"
           }
          ],
          "scatter3d": [
           {
            "line": {
             "colorbar": {
              "outlinewidth": 0,
              "ticks": ""
             }
            },
            "marker": {
             "colorbar": {
              "outlinewidth": 0,
              "ticks": ""
             }
            },
            "type": "scatter3d"
           }
          ],
          "scattercarpet": [
           {
            "marker": {
             "colorbar": {
              "outlinewidth": 0,
              "ticks": ""
             }
            },
            "type": "scattercarpet"
           }
          ],
          "scattergeo": [
           {
            "marker": {
             "colorbar": {
              "outlinewidth": 0,
              "ticks": ""
             }
            },
            "type": "scattergeo"
           }
          ],
          "scattergl": [
           {
            "marker": {
             "colorbar": {
              "outlinewidth": 0,
              "ticks": ""
             }
            },
            "type": "scattergl"
           }
          ],
          "scattermap": [
           {
            "marker": {
             "colorbar": {
              "outlinewidth": 0,
              "ticks": ""
             }
            },
            "type": "scattermap"
           }
          ],
          "scattermapbox": [
           {
            "marker": {
             "colorbar": {
              "outlinewidth": 0,
              "ticks": ""
             }
            },
            "type": "scattermapbox"
           }
          ],
          "scatterpolar": [
           {
            "marker": {
             "colorbar": {
              "outlinewidth": 0,
              "ticks": ""
             }
            },
            "type": "scatterpolar"
           }
          ],
          "scatterpolargl": [
           {
            "marker": {
             "colorbar": {
              "outlinewidth": 0,
              "ticks": ""
             }
            },
            "type": "scatterpolargl"
           }
          ],
          "scatterternary": [
           {
            "marker": {
             "colorbar": {
              "outlinewidth": 0,
              "ticks": ""
             }
            },
            "type": "scatterternary"
           }
          ],
          "surface": [
           {
            "colorbar": {
             "outlinewidth": 0,
             "ticks": ""
            },
            "colorscale": [
             [
              0,
              "#0d0887"
             ],
             [
              0.1111111111111111,
              "#46039f"
             ],
             [
              0.2222222222222222,
              "#7201a8"
             ],
             [
              0.3333333333333333,
              "#9c179e"
             ],
             [
              0.4444444444444444,
              "#bd3786"
             ],
             [
              0.5555555555555556,
              "#d8576b"
             ],
             [
              0.6666666666666666,
              "#ed7953"
             ],
             [
              0.7777777777777778,
              "#fb9f3a"
             ],
             [
              0.8888888888888888,
              "#fdca26"
             ],
             [
              1,
              "#f0f921"
             ]
            ],
            "type": "surface"
           }
          ],
          "table": [
           {
            "cells": {
             "fill": {
              "color": "#EBF0F8"
             },
             "line": {
              "color": "white"
             }
            },
            "header": {
             "fill": {
              "color": "#C8D4E3"
             },
             "line": {
              "color": "white"
             }
            },
            "type": "table"
           }
          ]
         },
         "layout": {
          "annotationdefaults": {
           "arrowcolor": "#2a3f5f",
           "arrowhead": 0,
           "arrowwidth": 1
          },
          "autotypenumbers": "strict",
          "coloraxis": {
           "colorbar": {
            "outlinewidth": 0,
            "ticks": ""
           }
          },
          "colorscale": {
           "diverging": [
            [
             0,
             "#8e0152"
            ],
            [
             0.1,
             "#c51b7d"
            ],
            [
             0.2,
             "#de77ae"
            ],
            [
             0.3,
             "#f1b6da"
            ],
            [
             0.4,
             "#fde0ef"
            ],
            [
             0.5,
             "#f7f7f7"
            ],
            [
             0.6,
             "#e6f5d0"
            ],
            [
             0.7,
             "#b8e186"
            ],
            [
             0.8,
             "#7fbc41"
            ],
            [
             0.9,
             "#4d9221"
            ],
            [
             1,
             "#276419"
            ]
           ],
           "sequential": [
            [
             0,
             "#0d0887"
            ],
            [
             0.1111111111111111,
             "#46039f"
            ],
            [
             0.2222222222222222,
             "#7201a8"
            ],
            [
             0.3333333333333333,
             "#9c179e"
            ],
            [
             0.4444444444444444,
             "#bd3786"
            ],
            [
             0.5555555555555556,
             "#d8576b"
            ],
            [
             0.6666666666666666,
             "#ed7953"
            ],
            [
             0.7777777777777778,
             "#fb9f3a"
            ],
            [
             0.8888888888888888,
             "#fdca26"
            ],
            [
             1,
             "#f0f921"
            ]
           ],
           "sequentialminus": [
            [
             0,
             "#0d0887"
            ],
            [
             0.1111111111111111,
             "#46039f"
            ],
            [
             0.2222222222222222,
             "#7201a8"
            ],
            [
             0.3333333333333333,
             "#9c179e"
            ],
            [
             0.4444444444444444,
             "#bd3786"
            ],
            [
             0.5555555555555556,
             "#d8576b"
            ],
            [
             0.6666666666666666,
             "#ed7953"
            ],
            [
             0.7777777777777778,
             "#fb9f3a"
            ],
            [
             0.8888888888888888,
             "#fdca26"
            ],
            [
             1,
             "#f0f921"
            ]
           ]
          },
          "colorway": [
           "#636efa",
           "#EF553B",
           "#00cc96",
           "#ab63fa",
           "#FFA15A",
           "#19d3f3",
           "#FF6692",
           "#B6E880",
           "#FF97FF",
           "#FECB52"
          ],
          "font": {
           "color": "#2a3f5f"
          },
          "geo": {
           "bgcolor": "white",
           "lakecolor": "white",
           "landcolor": "white",
           "showlakes": true,
           "showland": true,
           "subunitcolor": "#C8D4E3"
          },
          "hoverlabel": {
           "align": "left"
          },
          "hovermode": "closest",
          "mapbox": {
           "style": "light"
          },
          "paper_bgcolor": "white",
          "plot_bgcolor": "white",
          "polar": {
           "angularaxis": {
            "gridcolor": "#EBF0F8",
            "linecolor": "#EBF0F8",
            "ticks": ""
           },
           "bgcolor": "white",
           "radialaxis": {
            "gridcolor": "#EBF0F8",
            "linecolor": "#EBF0F8",
            "ticks": ""
           }
          },
          "scene": {
           "xaxis": {
            "backgroundcolor": "white",
            "gridcolor": "#DFE8F3",
            "gridwidth": 2,
            "linecolor": "#EBF0F8",
            "showbackground": true,
            "ticks": "",
            "zerolinecolor": "#EBF0F8"
           },
           "yaxis": {
            "backgroundcolor": "white",
            "gridcolor": "#DFE8F3",
            "gridwidth": 2,
            "linecolor": "#EBF0F8",
            "showbackground": true,
            "ticks": "",
            "zerolinecolor": "#EBF0F8"
           },
           "zaxis": {
            "backgroundcolor": "white",
            "gridcolor": "#DFE8F3",
            "gridwidth": 2,
            "linecolor": "#EBF0F8",
            "showbackground": true,
            "ticks": "",
            "zerolinecolor": "#EBF0F8"
           }
          },
          "shapedefaults": {
           "line": {
            "color": "#2a3f5f"
           }
          },
          "ternary": {
           "aaxis": {
            "gridcolor": "#DFE8F3",
            "linecolor": "#A2B1C6",
            "ticks": ""
           },
           "baxis": {
            "gridcolor": "#DFE8F3",
            "linecolor": "#A2B1C6",
            "ticks": ""
           },
           "bgcolor": "white",
           "caxis": {
            "gridcolor": "#DFE8F3",
            "linecolor": "#A2B1C6",
            "ticks": ""
           }
          },
          "title": {
           "x": 0.05
          },
          "xaxis": {
           "automargin": true,
           "gridcolor": "#EBF0F8",
           "linecolor": "#EBF0F8",
           "ticks": "",
           "title": {
            "standoff": 15
           },
           "zerolinecolor": "#EBF0F8",
           "zerolinewidth": 2
          },
          "yaxis": {
           "automargin": true,
           "gridcolor": "#EBF0F8",
           "linecolor": "#EBF0F8",
           "ticks": "",
           "title": {
            "standoff": 15
           },
           "zerolinecolor": "#EBF0F8",
           "zerolinewidth": 2
          }
         }
        },
        "title": {
         "text": "Monthly COVID-19 Deaths in the US"
        },
        "xaxis": {
         "anchor": "y",
         "domain": [
          0,
          1
         ],
         "title": {
          "text": "Date"
         }
        },
        "yaxis": {
         "anchor": "x",
         "domain": [
          0,
          1
         ],
         "title": {
          "text": "Deaths"
         }
        }
       }
      }
     },
     "metadata": {},
     "output_type": "display_data"
    }
   ],
   "source": [
    "# Aggregate monthly COVID-19 deaths at the national level\n",
    "df_monthly = df_us_clean.groupby(\"date\")[\"COVID_deaths\"].sum().reset_index()\n",
    "\n",
    "# Plot the monthly COVID-19 deaths as a line chart\n",
    "fig = px.line(\n",
    "    df_monthly,\n",
    "    x=\"date\",\n",
    "    y=\"COVID_deaths\",\n",
    "    title=\"Monthly COVID-19 Deaths in the US\",\n",
    "    labels={\"COVID_deaths\": \"Deaths\", \"date\": \"Date\"},\n",
    "    markers=True,\n",
    ")\n",
    "\n",
    "# Use a clean white theme for the chart\n",
    "fig.update_layout(template=\"plotly_white\")\n",
    "\n",
    "# Show the plot\n",
    "fig.show()\n"
   ]
  },
  {
   "cell_type": "markdown",
   "id": "8877e836-54f1-4111-8111-04ff4071ea66",
   "metadata": {},
   "source": [
    "# 🔹 Choropleth Map — Region-wise Crude Death Rates"
   ]
  },
  {
   "cell_type": "code",
   "execution_count": 19,
   "id": "953522cb",
   "metadata": {},
   "outputs": [
    {
     "data": {
      "application/vnd.plotly.v1+json": {
       "config": {
        "plotlyServerURL": "https://plot.ly"
       },
       "data": [
        {
         "coloraxis": "coloraxis",
         "geo": "geo",
         "hovertemplate": "<b>%{hovertext}</b><br><br>jurisdiction_residence=%{location}<br>crude_COVID_rate=%{z}<extra></extra>",
         "hovertext": [
          "AL",
          "AK",
          "AZ",
          "AR",
          "CA",
          "CO",
          "CT",
          "DE",
          "DC",
          "FL",
          "GA",
          "HI",
          "ID",
          "IL",
          "IN",
          "IA",
          "KS",
          "KY",
          "LA",
          "ME",
          "MD",
          "MA",
          "MI",
          "MN",
          "MS",
          "MO",
          "MT",
          "NE",
          "NV",
          "NH",
          "NJ",
          "NM",
          "NY",
          "NC",
          "ND",
          "OH",
          "OK",
          "OR",
          "PA",
          "RI",
          "SC",
          "SD",
          "TN",
          "TX",
          "UT",
          "VT",
          "VA",
          "WA",
          "WV",
          "WI",
          "WY"
         ],
         "locationmode": "USA-states",
         "locations": [
          "AL",
          "AK",
          "AZ",
          "AR",
          "CA",
          "CO",
          "CT",
          "DE",
          "DC",
          "FL",
          "GA",
          "HI",
          "ID",
          "IL",
          "IN",
          "IA",
          "KS",
          "KY",
          "LA",
          "ME",
          "MD",
          "MA",
          "MI",
          "MN",
          "MS",
          "MO",
          "MT",
          "NE",
          "NV",
          "NH",
          "NJ",
          "NM",
          "NY",
          "NC",
          "ND",
          "OH",
          "OK",
          "OR",
          "PA",
          "RI",
          "SC",
          "SD",
          "TN",
          "TX",
          "UT",
          "VT",
          "VA",
          "WA",
          "WV",
          "WI",
          "WY"
         ],
         "name": "",
         "type": "choropleth",
         "z": {
          "bdata": "yeaOKwnM2z9gsvwly1/CP4TrUbgeheM/WwO8ICn/0D+E61G4HoXjP/H4wwGPP2w/va8JQdn7uj+w+Iqv+Iq/P7D4iq/4ir8/yeaOKwnM2z/J5o4rCczbP4TrUbgeheM/YLL8Jctfwj+EEEIIIYSwP4QQQgghhLA/GBgYGBgYaD8YGBgYGBhoP8nmjisJzNs/WwO8ICn/0D+9rwlB2fu6P7D4iq/4ir8/va8JQdn7uj+EEEIIIYSwP4QQQgghhLA/yeaOKwnM2z8YGBgYGBhoP/H4wwGPP2w/GBgYGBgYaD+E61G4HoXjP72vCUHZ+7o/qIM6qIM6wD9bA7wgKf/QP6iDOqiDOsA/yeaOKwnM2z/x+MMBjz9sP4QQQgghhLA/WwO8ICn/0D9gsvwly1/CP7D4iq/4ir8/va8JQdn7uj/J5o4rCczbP/H4wwGPP2w/yeaOKwnM2z9bA7wgKf/QP/H4wwGPP2w/va8JQdn7uj+w+Iqv+Iq/P2Cy/CXLX8I/sPiKr/iKvz+EEEIIIYSwP/H4wwGPP2w/",
          "dtype": "f8"
         }
        }
       ],
       "layout": {
        "coloraxis": {
         "colorbar": {
          "title": {
           "text": "crude_COVID_rate"
          }
         },
         "colorscale": [
          [
           0,
           "rgb(247,251,255)"
          ],
          [
           0.125,
           "rgb(222,235,247)"
          ],
          [
           0.25,
           "rgb(198,219,239)"
          ],
          [
           0.375,
           "rgb(158,202,225)"
          ],
          [
           0.5,
           "rgb(107,174,214)"
          ],
          [
           0.625,
           "rgb(66,146,198)"
          ],
          [
           0.75,
           "rgb(33,113,181)"
          ],
          [
           0.875,
           "rgb(8,81,156)"
          ],
          [
           1,
           "rgb(8,48,107)"
          ]
         ]
        },
        "geo": {
         "center": {},
         "domain": {
          "x": [
           0,
           1
          ],
          "y": [
           0,
           1
          ]
         },
         "scope": "usa"
        },
        "legend": {
         "tracegroupgap": 0
        },
        "template": {
         "data": {
          "bar": [
           {
            "error_x": {
             "color": "#2a3f5f"
            },
            "error_y": {
             "color": "#2a3f5f"
            },
            "marker": {
             "line": {
              "color": "#E5ECF6",
              "width": 0.5
             },
             "pattern": {
              "fillmode": "overlay",
              "size": 10,
              "solidity": 0.2
             }
            },
            "type": "bar"
           }
          ],
          "barpolar": [
           {
            "marker": {
             "line": {
              "color": "#E5ECF6",
              "width": 0.5
             },
             "pattern": {
              "fillmode": "overlay",
              "size": 10,
              "solidity": 0.2
             }
            },
            "type": "barpolar"
           }
          ],
          "carpet": [
           {
            "aaxis": {
             "endlinecolor": "#2a3f5f",
             "gridcolor": "white",
             "linecolor": "white",
             "minorgridcolor": "white",
             "startlinecolor": "#2a3f5f"
            },
            "baxis": {
             "endlinecolor": "#2a3f5f",
             "gridcolor": "white",
             "linecolor": "white",
             "minorgridcolor": "white",
             "startlinecolor": "#2a3f5f"
            },
            "type": "carpet"
           }
          ],
          "choropleth": [
           {
            "colorbar": {
             "outlinewidth": 0,
             "ticks": ""
            },
            "type": "choropleth"
           }
          ],
          "contour": [
           {
            "colorbar": {
             "outlinewidth": 0,
             "ticks": ""
            },
            "colorscale": [
             [
              0,
              "#0d0887"
             ],
             [
              0.1111111111111111,
              "#46039f"
             ],
             [
              0.2222222222222222,
              "#7201a8"
             ],
             [
              0.3333333333333333,
              "#9c179e"
             ],
             [
              0.4444444444444444,
              "#bd3786"
             ],
             [
              0.5555555555555556,
              "#d8576b"
             ],
             [
              0.6666666666666666,
              "#ed7953"
             ],
             [
              0.7777777777777778,
              "#fb9f3a"
             ],
             [
              0.8888888888888888,
              "#fdca26"
             ],
             [
              1,
              "#f0f921"
             ]
            ],
            "type": "contour"
           }
          ],
          "contourcarpet": [
           {
            "colorbar": {
             "outlinewidth": 0,
             "ticks": ""
            },
            "type": "contourcarpet"
           }
          ],
          "heatmap": [
           {
            "colorbar": {
             "outlinewidth": 0,
             "ticks": ""
            },
            "colorscale": [
             [
              0,
              "#0d0887"
             ],
             [
              0.1111111111111111,
              "#46039f"
             ],
             [
              0.2222222222222222,
              "#7201a8"
             ],
             [
              0.3333333333333333,
              "#9c179e"
             ],
             [
              0.4444444444444444,
              "#bd3786"
             ],
             [
              0.5555555555555556,
              "#d8576b"
             ],
             [
              0.6666666666666666,
              "#ed7953"
             ],
             [
              0.7777777777777778,
              "#fb9f3a"
             ],
             [
              0.8888888888888888,
              "#fdca26"
             ],
             [
              1,
              "#f0f921"
             ]
            ],
            "type": "heatmap"
           }
          ],
          "histogram": [
           {
            "marker": {
             "pattern": {
              "fillmode": "overlay",
              "size": 10,
              "solidity": 0.2
             }
            },
            "type": "histogram"
           }
          ],
          "histogram2d": [
           {
            "colorbar": {
             "outlinewidth": 0,
             "ticks": ""
            },
            "colorscale": [
             [
              0,
              "#0d0887"
             ],
             [
              0.1111111111111111,
              "#46039f"
             ],
             [
              0.2222222222222222,
              "#7201a8"
             ],
             [
              0.3333333333333333,
              "#9c179e"
             ],
             [
              0.4444444444444444,
              "#bd3786"
             ],
             [
              0.5555555555555556,
              "#d8576b"
             ],
             [
              0.6666666666666666,
              "#ed7953"
             ],
             [
              0.7777777777777778,
              "#fb9f3a"
             ],
             [
              0.8888888888888888,
              "#fdca26"
             ],
             [
              1,
              "#f0f921"
             ]
            ],
            "type": "histogram2d"
           }
          ],
          "histogram2dcontour": [
           {
            "colorbar": {
             "outlinewidth": 0,
             "ticks": ""
            },
            "colorscale": [
             [
              0,
              "#0d0887"
             ],
             [
              0.1111111111111111,
              "#46039f"
             ],
             [
              0.2222222222222222,
              "#7201a8"
             ],
             [
              0.3333333333333333,
              "#9c179e"
             ],
             [
              0.4444444444444444,
              "#bd3786"
             ],
             [
              0.5555555555555556,
              "#d8576b"
             ],
             [
              0.6666666666666666,
              "#ed7953"
             ],
             [
              0.7777777777777778,
              "#fb9f3a"
             ],
             [
              0.8888888888888888,
              "#fdca26"
             ],
             [
              1,
              "#f0f921"
             ]
            ],
            "type": "histogram2dcontour"
           }
          ],
          "mesh3d": [
           {
            "colorbar": {
             "outlinewidth": 0,
             "ticks": ""
            },
            "type": "mesh3d"
           }
          ],
          "parcoords": [
           {
            "line": {
             "colorbar": {
              "outlinewidth": 0,
              "ticks": ""
             }
            },
            "type": "parcoords"
           }
          ],
          "pie": [
           {
            "automargin": true,
            "type": "pie"
           }
          ],
          "scatter": [
           {
            "fillpattern": {
             "fillmode": "overlay",
             "size": 10,
             "solidity": 0.2
            },
            "type": "scatter"
           }
          ],
          "scatter3d": [
           {
            "line": {
             "colorbar": {
              "outlinewidth": 0,
              "ticks": ""
             }
            },
            "marker": {
             "colorbar": {
              "outlinewidth": 0,
              "ticks": ""
             }
            },
            "type": "scatter3d"
           }
          ],
          "scattercarpet": [
           {
            "marker": {
             "colorbar": {
              "outlinewidth": 0,
              "ticks": ""
             }
            },
            "type": "scattercarpet"
           }
          ],
          "scattergeo": [
           {
            "marker": {
             "colorbar": {
              "outlinewidth": 0,
              "ticks": ""
             }
            },
            "type": "scattergeo"
           }
          ],
          "scattergl": [
           {
            "marker": {
             "colorbar": {
              "outlinewidth": 0,
              "ticks": ""
             }
            },
            "type": "scattergl"
           }
          ],
          "scattermap": [
           {
            "marker": {
             "colorbar": {
              "outlinewidth": 0,
              "ticks": ""
             }
            },
            "type": "scattermap"
           }
          ],
          "scattermapbox": [
           {
            "marker": {
             "colorbar": {
              "outlinewidth": 0,
              "ticks": ""
             }
            },
            "type": "scattermapbox"
           }
          ],
          "scatterpolar": [
           {
            "marker": {
             "colorbar": {
              "outlinewidth": 0,
              "ticks": ""
             }
            },
            "type": "scatterpolar"
           }
          ],
          "scatterpolargl": [
           {
            "marker": {
             "colorbar": {
              "outlinewidth": 0,
              "ticks": ""
             }
            },
            "type": "scatterpolargl"
           }
          ],
          "scatterternary": [
           {
            "marker": {
             "colorbar": {
              "outlinewidth": 0,
              "ticks": ""
             }
            },
            "type": "scatterternary"
           }
          ],
          "surface": [
           {
            "colorbar": {
             "outlinewidth": 0,
             "ticks": ""
            },
            "colorscale": [
             [
              0,
              "#0d0887"
             ],
             [
              0.1111111111111111,
              "#46039f"
             ],
             [
              0.2222222222222222,
              "#7201a8"
             ],
             [
              0.3333333333333333,
              "#9c179e"
             ],
             [
              0.4444444444444444,
              "#bd3786"
             ],
             [
              0.5555555555555556,
              "#d8576b"
             ],
             [
              0.6666666666666666,
              "#ed7953"
             ],
             [
              0.7777777777777778,
              "#fb9f3a"
             ],
             [
              0.8888888888888888,
              "#fdca26"
             ],
             [
              1,
              "#f0f921"
             ]
            ],
            "type": "surface"
           }
          ],
          "table": [
           {
            "cells": {
             "fill": {
              "color": "#EBF0F8"
             },
             "line": {
              "color": "white"
             }
            },
            "header": {
             "fill": {
              "color": "#C8D4E3"
             },
             "line": {
              "color": "white"
             }
            },
            "type": "table"
           }
          ]
         },
         "layout": {
          "annotationdefaults": {
           "arrowcolor": "#2a3f5f",
           "arrowhead": 0,
           "arrowwidth": 1
          },
          "autotypenumbers": "strict",
          "coloraxis": {
           "colorbar": {
            "outlinewidth": 0,
            "ticks": ""
           }
          },
          "colorscale": {
           "diverging": [
            [
             0,
             "#8e0152"
            ],
            [
             0.1,
             "#c51b7d"
            ],
            [
             0.2,
             "#de77ae"
            ],
            [
             0.3,
             "#f1b6da"
            ],
            [
             0.4,
             "#fde0ef"
            ],
            [
             0.5,
             "#f7f7f7"
            ],
            [
             0.6,
             "#e6f5d0"
            ],
            [
             0.7,
             "#b8e186"
            ],
            [
             0.8,
             "#7fbc41"
            ],
            [
             0.9,
             "#4d9221"
            ],
            [
             1,
             "#276419"
            ]
           ],
           "sequential": [
            [
             0,
             "#0d0887"
            ],
            [
             0.1111111111111111,
             "#46039f"
            ],
            [
             0.2222222222222222,
             "#7201a8"
            ],
            [
             0.3333333333333333,
             "#9c179e"
            ],
            [
             0.4444444444444444,
             "#bd3786"
            ],
            [
             0.5555555555555556,
             "#d8576b"
            ],
            [
             0.6666666666666666,
             "#ed7953"
            ],
            [
             0.7777777777777778,
             "#fb9f3a"
            ],
            [
             0.8888888888888888,
             "#fdca26"
            ],
            [
             1,
             "#f0f921"
            ]
           ],
           "sequentialminus": [
            [
             0,
             "#0d0887"
            ],
            [
             0.1111111111111111,
             "#46039f"
            ],
            [
             0.2222222222222222,
             "#7201a8"
            ],
            [
             0.3333333333333333,
             "#9c179e"
            ],
            [
             0.4444444444444444,
             "#bd3786"
            ],
            [
             0.5555555555555556,
             "#d8576b"
            ],
            [
             0.6666666666666666,
             "#ed7953"
            ],
            [
             0.7777777777777778,
             "#fb9f3a"
            ],
            [
             0.8888888888888888,
             "#fdca26"
            ],
            [
             1,
             "#f0f921"
            ]
           ]
          },
          "colorway": [
           "#636efa",
           "#EF553B",
           "#00cc96",
           "#ab63fa",
           "#FFA15A",
           "#19d3f3",
           "#FF6692",
           "#B6E880",
           "#FF97FF",
           "#FECB52"
          ],
          "font": {
           "color": "#2a3f5f"
          },
          "geo": {
           "bgcolor": "white",
           "lakecolor": "white",
           "landcolor": "#E5ECF6",
           "showlakes": true,
           "showland": true,
           "subunitcolor": "white"
          },
          "hoverlabel": {
           "align": "left"
          },
          "hovermode": "closest",
          "mapbox": {
           "style": "light"
          },
          "paper_bgcolor": "white",
          "plot_bgcolor": "#E5ECF6",
          "polar": {
           "angularaxis": {
            "gridcolor": "white",
            "linecolor": "white",
            "ticks": ""
           },
           "bgcolor": "#E5ECF6",
           "radialaxis": {
            "gridcolor": "white",
            "linecolor": "white",
            "ticks": ""
           }
          },
          "scene": {
           "xaxis": {
            "backgroundcolor": "#E5ECF6",
            "gridcolor": "white",
            "gridwidth": 2,
            "linecolor": "white",
            "showbackground": true,
            "ticks": "",
            "zerolinecolor": "white"
           },
           "yaxis": {
            "backgroundcolor": "#E5ECF6",
            "gridcolor": "white",
            "gridwidth": 2,
            "linecolor": "white",
            "showbackground": true,
            "ticks": "",
            "zerolinecolor": "white"
           },
           "zaxis": {
            "backgroundcolor": "#E5ECF6",
            "gridcolor": "white",
            "gridwidth": 2,
            "linecolor": "white",
            "showbackground": true,
            "ticks": "",
            "zerolinecolor": "white"
           }
          },
          "shapedefaults": {
           "line": {
            "color": "#2a3f5f"
           }
          },
          "ternary": {
           "aaxis": {
            "gridcolor": "white",
            "linecolor": "white",
            "ticks": ""
           },
           "baxis": {
            "gridcolor": "white",
            "linecolor": "white",
            "ticks": ""
           },
           "bgcolor": "#E5ECF6",
           "caxis": {
            "gridcolor": "white",
            "linecolor": "white",
            "ticks": ""
           }
          },
          "title": {
           "x": 0.05
          },
          "xaxis": {
           "automargin": true,
           "gridcolor": "white",
           "linecolor": "white",
           "ticks": "",
           "title": {
            "standoff": 15
           },
           "zerolinecolor": "white",
           "zerolinewidth": 2
          },
          "yaxis": {
           "automargin": true,
           "gridcolor": "white",
           "linecolor": "white",
           "ticks": "",
           "title": {
            "standoff": 15
           },
           "zerolinecolor": "white",
           "zerolinewidth": 2
          }
         }
        },
        "title": {
         "text": "Crude COVID-19 Death Rate by State (Latest Month)"
        }
       }
      }
     },
     "metadata": {},
     "output_type": "display_data"
    }
   ],
   "source": [
    "# Use the latest month’s data\n",
    "latest_date = df[\"date\"].max()\n",
    "df_latest = df[df[\"date\"] == latest_date]\n",
    "df_latest_state = df_latest[df_latest[\"jurisdiction_residence\"] != \"United States\"]\n",
    "\n",
    "# Define a mapping of regions to states\n",
    "region_to_states = {\n",
    "    \"Region 1\": [\n",
    "        \"Connecticut\", \"Maine\", \"Massachusetts\", \"New Hampshire\", \"Rhode Island\", \"Vermont\",\n",
    "    ],\n",
    "    \"Region 2\": [\"New Jersey\", \"New York\"],\n",
    "    \"Region 3\": [\n",
    "        \"Delaware\", \"District of Columbia\", \"Maryland\", \"Pennsylvania\", \"Virginia\", \"West Virginia\",\n",
    "    ],\n",
    "    \"Region 4\": [\n",
    "        \"Alabama\", \"Florida\", \"Georgia\", \"Kentucky\", \"Mississippi\",\n",
    "        \"North Carolina\", \"South Carolina\", \"Tennessee\",\n",
    "    ],\n",
    "    \"Region 5\": [\"Illinois\", \"Indiana\", \"Michigan\", \"Minnesota\", \"Ohio\", \"Wisconsin\"],\n",
    "    \"Region 6\": [\"Arkansas\", \"Louisiana\", \"New Mexico\", \"Oklahoma\", \"Texas\"],\n",
    "    \"Region 7\": [\"Iowa\", \"Kansas\", \"Missouri\", \"Nebraska\"],\n",
    "    \"Region 8\": [\"Colorado\", \"Montana\", \"North Dakota\", \"South Dakota\", \"Utah\", \"Wyoming\"],\n",
    "    \"Region 9\": [\"Arizona\", \"California\", \"Hawaii\", \"Nevada\"],\n",
    "    \"Region 10\": [\"Alaska\", \"Idaho\", \"Oregon\", \"Washington\"],\n",
    "}\n",
    "\n",
    "# Expand regions to states\n",
    "df_latest_state_expanded = df_latest[\n",
    "    df_latest[\"jurisdiction_residence\"] != \"United States\"\n",
    "].copy()\n",
    "\n",
    "# Map regions to states and create a new column with lists of states\n",
    "df_latest_state_expanded[\"states\"] = df_latest_state_expanded[\n",
    "    \"jurisdiction_residence\"\n",
    "].map(region_to_states)\n",
    "\n",
    "# Explode the 'states' column to create one row per state\n",
    "df_latest_state_expanded = df_latest_state_expanded.explode(\"states\")\n",
    "\n",
    "# Rename the 'states' column to 'jurisdiction_residence' for consistency\n",
    "df_latest_state_expanded[\"jurisdiction_residence\"] = df_latest_state_expanded[\"states\"]\n",
    "df_latest_state_expanded.drop(columns=[\"states\"], inplace=True)\n",
    "\n",
    "# --- FIX: convert numeric columns ---\n",
    "df_latest_state_expanded[\"COVID_deaths\"] = (\n",
    "    df_latest_state_expanded[\"COVID_deaths\"].astype(str).str.replace(\",\", \"\", regex=True)\n",
    ")\n",
    "df_latest_state_expanded[\"COVID_deaths\"] = pd.to_numeric(\n",
    "    df_latest_state_expanded[\"COVID_deaths\"], errors=\"coerce\"\n",
    ")\n",
    "\n",
    "df_latest_state_expanded[\"crude_COVID_rate\"] = (\n",
    "    df_latest_state_expanded[\"crude_COVID_rate\"].astype(str).str.replace(\",\", \"\", regex=True)\n",
    ")\n",
    "df_latest_state_expanded[\"crude_COVID_rate\"] = pd.to_numeric(\n",
    "    df_latest_state_expanded[\"crude_COVID_rate\"], errors=\"coerce\"\n",
    ")\n",
    "\n",
    "# Aggregate data by state\n",
    "df_state_level = df_latest_state_expanded.groupby(\n",
    "    \"jurisdiction_residence\", as_index=False\n",
    ").agg({\"crude_COVID_rate\": \"mean\", \"COVID_deaths\": \"sum\"})\n",
    "\n",
    "# State abbreviations\n",
    "state_abbreviations = {\n",
    "    \"Alabama\": \"AL\", \"Alaska\": \"AK\", \"Arizona\": \"AZ\", \"Arkansas\": \"AR\", \"California\": \"CA\",\n",
    "    \"Colorado\": \"CO\", \"Connecticut\": \"CT\", \"Delaware\": \"DE\", \"District of Columbia\": \"DC\",\n",
    "    \"Florida\": \"FL\", \"Georgia\": \"GA\", \"Hawaii\": \"HI\", \"Idaho\": \"ID\", \"Illinois\": \"IL\",\n",
    "    \"Indiana\": \"IN\", \"Iowa\": \"IA\", \"Kansas\": \"KS\", \"Kentucky\": \"KY\", \"Louisiana\": \"LA\",\n",
    "    \"Maine\": \"ME\", \"Maryland\": \"MD\", \"Massachusetts\": \"MA\", \"Michigan\": \"MI\", \"Minnesota\": \"MN\",\n",
    "    \"Mississippi\": \"MS\", \"Missouri\": \"MO\", \"Montana\": \"MT\", \"Nebraska\": \"NE\", \"Nevada\": \"NV\",\n",
    "    \"New Hampshire\": \"NH\", \"New Jersey\": \"NJ\", \"New Mexico\": \"NM\", \"New York\": \"NY\",\n",
    "    \"North Carolina\": \"NC\", \"North Dakota\": \"ND\", \"Ohio\": \"OH\", \"Oklahoma\": \"OK\", \"Oregon\": \"OR\",\n",
    "    \"Pennsylvania\": \"PA\", \"Rhode Island\": \"RI\", \"South Carolina\": \"SC\", \"South Dakota\": \"SD\",\n",
    "    \"Tennessee\": \"TN\", \"Texas\": \"TX\", \"Utah\": \"UT\", \"Vermont\": \"VT\", \"Virginia\": \"VA\",\n",
    "    \"Washington\": \"WA\", \"West Virginia\": \"WV\", \"Wisconsin\": \"WI\", \"Wyoming\": \"WY\",\n",
    "}\n",
    "\n",
    "# Map state names to abbreviations\n",
    "df_state_level[\"jurisdiction_residence\"] = df_state_level[\"jurisdiction_residence\"].map(\n",
    "    state_abbreviations\n",
    ")\n",
    "\n",
    "# Create the choropleth map\n",
    "fig = px.choropleth(\n",
    "    df_state_level,\n",
    "    locations=\"jurisdiction_residence\",\n",
    "    locationmode=\"USA-states\",\n",
    "    scope=\"usa\",\n",
    "    color=\"crude_COVID_rate\",\n",
    "    hover_name=\"jurisdiction_residence\",\n",
    "    title=\"Crude COVID-19 Death Rate by State (Latest Month)\",\n",
    "    color_continuous_scale=\"blues\",\n",
    ")\n",
    "fig.show()\n"
   ]
  },
  {
   "cell_type": "markdown",
   "id": "044690d4-46cc-4cdf-be3b-e99d07176299",
   "metadata": {},
   "source": [
    "# 🔹 Demographic Comparison — Race & Hispanic Origin"
   ]
  },
  {
   "cell_type": "code",
   "execution_count": 20,
   "id": "eb785c4a",
   "metadata": {},
   "outputs": [
    {
     "data": {
      "application/vnd.plotly.v1+json": {
       "config": {
        "plotlyServerURL": "https://plot.ly"
       },
       "data": [
        {
         "hovertemplate": "Race=%{x}<br>Deaths=%{marker.color}<extra></extra>",
         "legendgroup": "",
         "marker": {
          "color": {
           "bdata": "AAAAAECYBUEAAAAAgKTIQAAAAABg0eJAAAAAACD+40AAAAAAmCYEQQAAAAAAzKJAAAAAAMpGKUE=",
           "dtype": "f8"
          },
          "coloraxis": "coloraxis",
          "pattern": {
           "shape": ""
          }
         },
         "name": "",
         "orientation": "v",
         "showlegend": false,
         "textposition": "auto",
         "type": "bar",
         "x": [
          "Hispanic",
          "AI/AN",
          "Asian",
          "Asian/PI",
          "Black",
          "Native Hawaiian/PI",
          "White"
         ],
         "xaxis": "x",
         "y": {
          "bdata": "AAAAAECYBUEAAAAAgKTIQAAAAABg0eJAAAAAACD+40AAAAAAmCYEQQAAAAAAzKJAAAAAAMpGKUE=",
          "dtype": "f8"
         },
         "yaxis": "y"
        }
       ],
       "layout": {
        "barmode": "relative",
        "coloraxis": {
         "colorbar": {
          "title": {
           "text": "Deaths"
          }
         },
         "colorscale": [
          [
           0,
           "#440154"
          ],
          [
           0.1111111111111111,
           "#482878"
          ],
          [
           0.2222222222222222,
           "#3e4989"
          ],
          [
           0.3333333333333333,
           "#31688e"
          ],
          [
           0.4444444444444444,
           "#26828e"
          ],
          [
           0.5555555555555556,
           "#1f9e89"
          ],
          [
           0.6666666666666666,
           "#35b779"
          ],
          [
           0.7777777777777778,
           "#6ece58"
          ],
          [
           0.8888888888888888,
           "#b5de2b"
          ],
          [
           1,
           "#fde725"
          ]
         ]
        },
        "legend": {
         "title": {
          "text": "Deaths"
         },
         "tracegroupgap": 0
        },
        "template": {
         "data": {
          "bar": [
           {
            "error_x": {
             "color": "#2a3f5f"
            },
            "error_y": {
             "color": "#2a3f5f"
            },
            "marker": {
             "line": {
              "color": "#E5ECF6",
              "width": 0.5
             },
             "pattern": {
              "fillmode": "overlay",
              "size": 10,
              "solidity": 0.2
             }
            },
            "type": "bar"
           }
          ],
          "barpolar": [
           {
            "marker": {
             "line": {
              "color": "#E5ECF6",
              "width": 0.5
             },
             "pattern": {
              "fillmode": "overlay",
              "size": 10,
              "solidity": 0.2
             }
            },
            "type": "barpolar"
           }
          ],
          "carpet": [
           {
            "aaxis": {
             "endlinecolor": "#2a3f5f",
             "gridcolor": "white",
             "linecolor": "white",
             "minorgridcolor": "white",
             "startlinecolor": "#2a3f5f"
            },
            "baxis": {
             "endlinecolor": "#2a3f5f",
             "gridcolor": "white",
             "linecolor": "white",
             "minorgridcolor": "white",
             "startlinecolor": "#2a3f5f"
            },
            "type": "carpet"
           }
          ],
          "choropleth": [
           {
            "colorbar": {
             "outlinewidth": 0,
             "ticks": ""
            },
            "type": "choropleth"
           }
          ],
          "contour": [
           {
            "colorbar": {
             "outlinewidth": 0,
             "ticks": ""
            },
            "colorscale": [
             [
              0,
              "#0d0887"
             ],
             [
              0.1111111111111111,
              "#46039f"
             ],
             [
              0.2222222222222222,
              "#7201a8"
             ],
             [
              0.3333333333333333,
              "#9c179e"
             ],
             [
              0.4444444444444444,
              "#bd3786"
             ],
             [
              0.5555555555555556,
              "#d8576b"
             ],
             [
              0.6666666666666666,
              "#ed7953"
             ],
             [
              0.7777777777777778,
              "#fb9f3a"
             ],
             [
              0.8888888888888888,
              "#fdca26"
             ],
             [
              1,
              "#f0f921"
             ]
            ],
            "type": "contour"
           }
          ],
          "contourcarpet": [
           {
            "colorbar": {
             "outlinewidth": 0,
             "ticks": ""
            },
            "type": "contourcarpet"
           }
          ],
          "heatmap": [
           {
            "colorbar": {
             "outlinewidth": 0,
             "ticks": ""
            },
            "colorscale": [
             [
              0,
              "#0d0887"
             ],
             [
              0.1111111111111111,
              "#46039f"
             ],
             [
              0.2222222222222222,
              "#7201a8"
             ],
             [
              0.3333333333333333,
              "#9c179e"
             ],
             [
              0.4444444444444444,
              "#bd3786"
             ],
             [
              0.5555555555555556,
              "#d8576b"
             ],
             [
              0.6666666666666666,
              "#ed7953"
             ],
             [
              0.7777777777777778,
              "#fb9f3a"
             ],
             [
              0.8888888888888888,
              "#fdca26"
             ],
             [
              1,
              "#f0f921"
             ]
            ],
            "type": "heatmap"
           }
          ],
          "histogram": [
           {
            "marker": {
             "pattern": {
              "fillmode": "overlay",
              "size": 10,
              "solidity": 0.2
             }
            },
            "type": "histogram"
           }
          ],
          "histogram2d": [
           {
            "colorbar": {
             "outlinewidth": 0,
             "ticks": ""
            },
            "colorscale": [
             [
              0,
              "#0d0887"
             ],
             [
              0.1111111111111111,
              "#46039f"
             ],
             [
              0.2222222222222222,
              "#7201a8"
             ],
             [
              0.3333333333333333,
              "#9c179e"
             ],
             [
              0.4444444444444444,
              "#bd3786"
             ],
             [
              0.5555555555555556,
              "#d8576b"
             ],
             [
              0.6666666666666666,
              "#ed7953"
             ],
             [
              0.7777777777777778,
              "#fb9f3a"
             ],
             [
              0.8888888888888888,
              "#fdca26"
             ],
             [
              1,
              "#f0f921"
             ]
            ],
            "type": "histogram2d"
           }
          ],
          "histogram2dcontour": [
           {
            "colorbar": {
             "outlinewidth": 0,
             "ticks": ""
            },
            "colorscale": [
             [
              0,
              "#0d0887"
             ],
             [
              0.1111111111111111,
              "#46039f"
             ],
             [
              0.2222222222222222,
              "#7201a8"
             ],
             [
              0.3333333333333333,
              "#9c179e"
             ],
             [
              0.4444444444444444,
              "#bd3786"
             ],
             [
              0.5555555555555556,
              "#d8576b"
             ],
             [
              0.6666666666666666,
              "#ed7953"
             ],
             [
              0.7777777777777778,
              "#fb9f3a"
             ],
             [
              0.8888888888888888,
              "#fdca26"
             ],
             [
              1,
              "#f0f921"
             ]
            ],
            "type": "histogram2dcontour"
           }
          ],
          "mesh3d": [
           {
            "colorbar": {
             "outlinewidth": 0,
             "ticks": ""
            },
            "type": "mesh3d"
           }
          ],
          "parcoords": [
           {
            "line": {
             "colorbar": {
              "outlinewidth": 0,
              "ticks": ""
             }
            },
            "type": "parcoords"
           }
          ],
          "pie": [
           {
            "automargin": true,
            "type": "pie"
           }
          ],
          "scatter": [
           {
            "fillpattern": {
             "fillmode": "overlay",
             "size": 10,
             "solidity": 0.2
            },
            "type": "scatter"
           }
          ],
          "scatter3d": [
           {
            "line": {
             "colorbar": {
              "outlinewidth": 0,
              "ticks": ""
             }
            },
            "marker": {
             "colorbar": {
              "outlinewidth": 0,
              "ticks": ""
             }
            },
            "type": "scatter3d"
           }
          ],
          "scattercarpet": [
           {
            "marker": {
             "colorbar": {
              "outlinewidth": 0,
              "ticks": ""
             }
            },
            "type": "scattercarpet"
           }
          ],
          "scattergeo": [
           {
            "marker": {
             "colorbar": {
              "outlinewidth": 0,
              "ticks": ""
             }
            },
            "type": "scattergeo"
           }
          ],
          "scattergl": [
           {
            "marker": {
             "colorbar": {
              "outlinewidth": 0,
              "ticks": ""
             }
            },
            "type": "scattergl"
           }
          ],
          "scattermap": [
           {
            "marker": {
             "colorbar": {
              "outlinewidth": 0,
              "ticks": ""
             }
            },
            "type": "scattermap"
           }
          ],
          "scattermapbox": [
           {
            "marker": {
             "colorbar": {
              "outlinewidth": 0,
              "ticks": ""
             }
            },
            "type": "scattermapbox"
           }
          ],
          "scatterpolar": [
           {
            "marker": {
             "colorbar": {
              "outlinewidth": 0,
              "ticks": ""
             }
            },
            "type": "scatterpolar"
           }
          ],
          "scatterpolargl": [
           {
            "marker": {
             "colorbar": {
              "outlinewidth": 0,
              "ticks": ""
             }
            },
            "type": "scatterpolargl"
           }
          ],
          "scatterternary": [
           {
            "marker": {
             "colorbar": {
              "outlinewidth": 0,
              "ticks": ""
             }
            },
            "type": "scatterternary"
           }
          ],
          "surface": [
           {
            "colorbar": {
             "outlinewidth": 0,
             "ticks": ""
            },
            "colorscale": [
             [
              0,
              "#0d0887"
             ],
             [
              0.1111111111111111,
              "#46039f"
             ],
             [
              0.2222222222222222,
              "#7201a8"
             ],
             [
              0.3333333333333333,
              "#9c179e"
             ],
             [
              0.4444444444444444,
              "#bd3786"
             ],
             [
              0.5555555555555556,
              "#d8576b"
             ],
             [
              0.6666666666666666,
              "#ed7953"
             ],
             [
              0.7777777777777778,
              "#fb9f3a"
             ],
             [
              0.8888888888888888,
              "#fdca26"
             ],
             [
              1,
              "#f0f921"
             ]
            ],
            "type": "surface"
           }
          ],
          "table": [
           {
            "cells": {
             "fill": {
              "color": "#EBF0F8"
             },
             "line": {
              "color": "white"
             }
            },
            "header": {
             "fill": {
              "color": "#C8D4E3"
             },
             "line": {
              "color": "white"
             }
            },
            "type": "table"
           }
          ]
         },
         "layout": {
          "annotationdefaults": {
           "arrowcolor": "#2a3f5f",
           "arrowhead": 0,
           "arrowwidth": 1
          },
          "autotypenumbers": "strict",
          "coloraxis": {
           "colorbar": {
            "outlinewidth": 0,
            "ticks": ""
           }
          },
          "colorscale": {
           "diverging": [
            [
             0,
             "#8e0152"
            ],
            [
             0.1,
             "#c51b7d"
            ],
            [
             0.2,
             "#de77ae"
            ],
            [
             0.3,
             "#f1b6da"
            ],
            [
             0.4,
             "#fde0ef"
            ],
            [
             0.5,
             "#f7f7f7"
            ],
            [
             0.6,
             "#e6f5d0"
            ],
            [
             0.7,
             "#b8e186"
            ],
            [
             0.8,
             "#7fbc41"
            ],
            [
             0.9,
             "#4d9221"
            ],
            [
             1,
             "#276419"
            ]
           ],
           "sequential": [
            [
             0,
             "#0d0887"
            ],
            [
             0.1111111111111111,
             "#46039f"
            ],
            [
             0.2222222222222222,
             "#7201a8"
            ],
            [
             0.3333333333333333,
             "#9c179e"
            ],
            [
             0.4444444444444444,
             "#bd3786"
            ],
            [
             0.5555555555555556,
             "#d8576b"
            ],
            [
             0.6666666666666666,
             "#ed7953"
            ],
            [
             0.7777777777777778,
             "#fb9f3a"
            ],
            [
             0.8888888888888888,
             "#fdca26"
            ],
            [
             1,
             "#f0f921"
            ]
           ],
           "sequentialminus": [
            [
             0,
             "#0d0887"
            ],
            [
             0.1111111111111111,
             "#46039f"
            ],
            [
             0.2222222222222222,
             "#7201a8"
            ],
            [
             0.3333333333333333,
             "#9c179e"
            ],
            [
             0.4444444444444444,
             "#bd3786"
            ],
            [
             0.5555555555555556,
             "#d8576b"
            ],
            [
             0.6666666666666666,
             "#ed7953"
            ],
            [
             0.7777777777777778,
             "#fb9f3a"
            ],
            [
             0.8888888888888888,
             "#fdca26"
            ],
            [
             1,
             "#f0f921"
            ]
           ]
          },
          "colorway": [
           "#636efa",
           "#EF553B",
           "#00cc96",
           "#ab63fa",
           "#FFA15A",
           "#19d3f3",
           "#FF6692",
           "#B6E880",
           "#FF97FF",
           "#FECB52"
          ],
          "font": {
           "color": "#2a3f5f"
          },
          "geo": {
           "bgcolor": "white",
           "lakecolor": "white",
           "landcolor": "#E5ECF6",
           "showlakes": true,
           "showland": true,
           "subunitcolor": "white"
          },
          "hoverlabel": {
           "align": "left"
          },
          "hovermode": "closest",
          "mapbox": {
           "style": "light"
          },
          "paper_bgcolor": "white",
          "plot_bgcolor": "#E5ECF6",
          "polar": {
           "angularaxis": {
            "gridcolor": "white",
            "linecolor": "white",
            "ticks": ""
           },
           "bgcolor": "#E5ECF6",
           "radialaxis": {
            "gridcolor": "white",
            "linecolor": "white",
            "ticks": ""
           }
          },
          "scene": {
           "xaxis": {
            "backgroundcolor": "#E5ECF6",
            "gridcolor": "white",
            "gridwidth": 2,
            "linecolor": "white",
            "showbackground": true,
            "ticks": "",
            "zerolinecolor": "white"
           },
           "yaxis": {
            "backgroundcolor": "#E5ECF6",
            "gridcolor": "white",
            "gridwidth": 2,
            "linecolor": "white",
            "showbackground": true,
            "ticks": "",
            "zerolinecolor": "white"
           },
           "zaxis": {
            "backgroundcolor": "#E5ECF6",
            "gridcolor": "white",
            "gridwidth": 2,
            "linecolor": "white",
            "showbackground": true,
            "ticks": "",
            "zerolinecolor": "white"
           }
          },
          "shapedefaults": {
           "line": {
            "color": "#2a3f5f"
           }
          },
          "ternary": {
           "aaxis": {
            "gridcolor": "white",
            "linecolor": "white",
            "ticks": ""
           },
           "baxis": {
            "gridcolor": "white",
            "linecolor": "white",
            "ticks": ""
           },
           "bgcolor": "#E5ECF6",
           "caxis": {
            "gridcolor": "white",
            "linecolor": "white",
            "ticks": ""
           }
          },
          "title": {
           "x": 0.05
          },
          "xaxis": {
           "automargin": true,
           "gridcolor": "white",
           "linecolor": "white",
           "ticks": "",
           "title": {
            "standoff": 15
           },
           "zerolinecolor": "white",
           "zerolinewidth": 2
          },
          "yaxis": {
           "automargin": true,
           "gridcolor": "white",
           "linecolor": "white",
           "ticks": "",
           "title": {
            "standoff": 15
           },
           "zerolinecolor": "white",
           "zerolinewidth": 2
          }
         }
        },
        "title": {
         "text": "COVID-19 Deaths by Race"
        },
        "xaxis": {
         "anchor": "y",
         "domain": [
          0,
          1
         ],
         "tickangle": 45,
         "title": {
          "text": "Race"
         }
        },
        "yaxis": {
         "anchor": "x",
         "domain": [
          0,
          1
         ],
         "title": {
          "text": "Deaths"
         }
        }
       }
      }
     },
     "metadata": {},
     "output_type": "display_data"
    }
   ],
   "source": [
    "# Mapping of Race & Hispanic Origins to manage cluttred lables\n",
    "race_map = {\n",
    "    \"Hispanic\": \"Hispanic\",\n",
    "    \"Non-Hispanic American Indian or Alaska Native\": \"AI/AN\",\n",
    "    \"Non-Hispanic Asian\": \"Asian\",\n",
    "    \"Non-Hispanic Asian, Native Hawaiian or Other Pacific Islander\": \"Asian/PI\",\n",
    "    \"Non-Hispanic Black\": \"Black\",\n",
    "    \"Non-Hispanic Native Hawaiian or Other Pacific Islander\": \"Native Hawaiian/PI\",\n",
    "    \"Non-Hispanic White\": \"White\",\n",
    "}\n",
    "\n",
    "# Filter race-based records\n",
    "race_df = (\n",
    "    df_us_clean[df_us_clean[\"group\"] == \"Race\"]\n",
    "    .groupby(\"subgroup1\")[\"COVID_deaths\"]\n",
    "    .sum()\n",
    "    .reset_index()\n",
    ")\n",
    "\n",
    "# Aggregate race-wise deaths\n",
    "race_df[\"race\"] = race_df[\"subgroup1\"].map(race_map).fillna(race_df[\"subgroup1\"])\n",
    "\n",
    "# Visualize\n",
    "fig = px.bar(\n",
    "    race_df,\n",
    "    x=\"race\",\n",
    "    y=\"COVID_deaths\",\n",
    "    title=\"COVID-19 Deaths by Race\",\n",
    "    labels={\"race\": \"Race\", \"COVID_deaths\": \"Deaths\"},\n",
    "    color=\"COVID_deaths\",\n",
    "    color_continuous_scale=\"viridis\",\n",
    ")\n",
    "fig.update_layout(xaxis_tickangle=45, legend_title=\"Deaths\")\n",
    "fig.show()\n"
   ]
  },
  {
   "cell_type": "markdown",
   "id": "7536deeb-320f-43b2-ac4b-840ee74e2953",
   "metadata": {},
   "source": [
    "# 🔹 COVID Deaths by Age Group"
   ]
  },
  {
   "cell_type": "code",
   "execution_count": 21,
   "id": "0dd6d679",
   "metadata": {},
   "outputs": [
    {
     "data": {
      "application/vnd.plotly.v1+json": {
       "config": {
        "plotlyServerURL": "https://plot.ly"
       },
       "data": [
        {
         "hovertemplate": "Age Group=%{x}<br>COVID Deaths=%{marker.color}<extra></extra>",
         "legendgroup": "",
         "marker": {
          "color": {
           "bdata": "AAAAAAAckkAAAAAAAOB4QAAAAAAAQIRAAAAAAAD+vEAAAAAAwCfUQAAAAADAQOdAAAAAAACmCUEAAAAA3JMQQQAAAABkhSRB",
           "dtype": "f8"
          },
          "coloraxis": "coloraxis",
          "pattern": {
           "shape": ""
          }
         },
         "name": "",
         "orientation": "v",
         "showlegend": false,
         "textposition": "auto",
         "type": "bar",
         "x": [
          "0-4 years",
          "5-11 years",
          "12-17 years",
          "18-29 years",
          "30-39 years",
          "40-49 years",
          "50-64 years",
          "65-74 years",
          "75 years and over"
         ],
         "xaxis": "x",
         "y": {
          "bdata": "AAAAAAAckkAAAAAAAOB4QAAAAAAAQIRAAAAAAAD+vEAAAAAAwCfUQAAAAADAQOdAAAAAAACmCUEAAAAA3JMQQQAAAABkhSRB",
          "dtype": "f8"
         },
         "yaxis": "y"
        }
       ],
       "layout": {
        "barmode": "relative",
        "coloraxis": {
         "colorbar": {
          "title": {
           "text": "COVID Deaths"
          }
         },
         "colorscale": [
          [
           0,
           "#440154"
          ],
          [
           0.1111111111111111,
           "#482878"
          ],
          [
           0.2222222222222222,
           "#3e4989"
          ],
          [
           0.3333333333333333,
           "#31688e"
          ],
          [
           0.4444444444444444,
           "#26828e"
          ],
          [
           0.5555555555555556,
           "#1f9e89"
          ],
          [
           0.6666666666666666,
           "#35b779"
          ],
          [
           0.7777777777777778,
           "#6ece58"
          ],
          [
           0.8888888888888888,
           "#b5de2b"
          ],
          [
           1,
           "#fde725"
          ]
         ]
        },
        "legend": {
         "tracegroupgap": 0
        },
        "template": {
         "data": {
          "bar": [
           {
            "error_x": {
             "color": "#2a3f5f"
            },
            "error_y": {
             "color": "#2a3f5f"
            },
            "marker": {
             "line": {
              "color": "#E5ECF6",
              "width": 0.5
             },
             "pattern": {
              "fillmode": "overlay",
              "size": 10,
              "solidity": 0.2
             }
            },
            "type": "bar"
           }
          ],
          "barpolar": [
           {
            "marker": {
             "line": {
              "color": "#E5ECF6",
              "width": 0.5
             },
             "pattern": {
              "fillmode": "overlay",
              "size": 10,
              "solidity": 0.2
             }
            },
            "type": "barpolar"
           }
          ],
          "carpet": [
           {
            "aaxis": {
             "endlinecolor": "#2a3f5f",
             "gridcolor": "white",
             "linecolor": "white",
             "minorgridcolor": "white",
             "startlinecolor": "#2a3f5f"
            },
            "baxis": {
             "endlinecolor": "#2a3f5f",
             "gridcolor": "white",
             "linecolor": "white",
             "minorgridcolor": "white",
             "startlinecolor": "#2a3f5f"
            },
            "type": "carpet"
           }
          ],
          "choropleth": [
           {
            "colorbar": {
             "outlinewidth": 0,
             "ticks": ""
            },
            "type": "choropleth"
           }
          ],
          "contour": [
           {
            "colorbar": {
             "outlinewidth": 0,
             "ticks": ""
            },
            "colorscale": [
             [
              0,
              "#0d0887"
             ],
             [
              0.1111111111111111,
              "#46039f"
             ],
             [
              0.2222222222222222,
              "#7201a8"
             ],
             [
              0.3333333333333333,
              "#9c179e"
             ],
             [
              0.4444444444444444,
              "#bd3786"
             ],
             [
              0.5555555555555556,
              "#d8576b"
             ],
             [
              0.6666666666666666,
              "#ed7953"
             ],
             [
              0.7777777777777778,
              "#fb9f3a"
             ],
             [
              0.8888888888888888,
              "#fdca26"
             ],
             [
              1,
              "#f0f921"
             ]
            ],
            "type": "contour"
           }
          ],
          "contourcarpet": [
           {
            "colorbar": {
             "outlinewidth": 0,
             "ticks": ""
            },
            "type": "contourcarpet"
           }
          ],
          "heatmap": [
           {
            "colorbar": {
             "outlinewidth": 0,
             "ticks": ""
            },
            "colorscale": [
             [
              0,
              "#0d0887"
             ],
             [
              0.1111111111111111,
              "#46039f"
             ],
             [
              0.2222222222222222,
              "#7201a8"
             ],
             [
              0.3333333333333333,
              "#9c179e"
             ],
             [
              0.4444444444444444,
              "#bd3786"
             ],
             [
              0.5555555555555556,
              "#d8576b"
             ],
             [
              0.6666666666666666,
              "#ed7953"
             ],
             [
              0.7777777777777778,
              "#fb9f3a"
             ],
             [
              0.8888888888888888,
              "#fdca26"
             ],
             [
              1,
              "#f0f921"
             ]
            ],
            "type": "heatmap"
           }
          ],
          "histogram": [
           {
            "marker": {
             "pattern": {
              "fillmode": "overlay",
              "size": 10,
              "solidity": 0.2
             }
            },
            "type": "histogram"
           }
          ],
          "histogram2d": [
           {
            "colorbar": {
             "outlinewidth": 0,
             "ticks": ""
            },
            "colorscale": [
             [
              0,
              "#0d0887"
             ],
             [
              0.1111111111111111,
              "#46039f"
             ],
             [
              0.2222222222222222,
              "#7201a8"
             ],
             [
              0.3333333333333333,
              "#9c179e"
             ],
             [
              0.4444444444444444,
              "#bd3786"
             ],
             [
              0.5555555555555556,
              "#d8576b"
             ],
             [
              0.6666666666666666,
              "#ed7953"
             ],
             [
              0.7777777777777778,
              "#fb9f3a"
             ],
             [
              0.8888888888888888,
              "#fdca26"
             ],
             [
              1,
              "#f0f921"
             ]
            ],
            "type": "histogram2d"
           }
          ],
          "histogram2dcontour": [
           {
            "colorbar": {
             "outlinewidth": 0,
             "ticks": ""
            },
            "colorscale": [
             [
              0,
              "#0d0887"
             ],
             [
              0.1111111111111111,
              "#46039f"
             ],
             [
              0.2222222222222222,
              "#7201a8"
             ],
             [
              0.3333333333333333,
              "#9c179e"
             ],
             [
              0.4444444444444444,
              "#bd3786"
             ],
             [
              0.5555555555555556,
              "#d8576b"
             ],
             [
              0.6666666666666666,
              "#ed7953"
             ],
             [
              0.7777777777777778,
              "#fb9f3a"
             ],
             [
              0.8888888888888888,
              "#fdca26"
             ],
             [
              1,
              "#f0f921"
             ]
            ],
            "type": "histogram2dcontour"
           }
          ],
          "mesh3d": [
           {
            "colorbar": {
             "outlinewidth": 0,
             "ticks": ""
            },
            "type": "mesh3d"
           }
          ],
          "parcoords": [
           {
            "line": {
             "colorbar": {
              "outlinewidth": 0,
              "ticks": ""
             }
            },
            "type": "parcoords"
           }
          ],
          "pie": [
           {
            "automargin": true,
            "type": "pie"
           }
          ],
          "scatter": [
           {
            "fillpattern": {
             "fillmode": "overlay",
             "size": 10,
             "solidity": 0.2
            },
            "type": "scatter"
           }
          ],
          "scatter3d": [
           {
            "line": {
             "colorbar": {
              "outlinewidth": 0,
              "ticks": ""
             }
            },
            "marker": {
             "colorbar": {
              "outlinewidth": 0,
              "ticks": ""
             }
            },
            "type": "scatter3d"
           }
          ],
          "scattercarpet": [
           {
            "marker": {
             "colorbar": {
              "outlinewidth": 0,
              "ticks": ""
             }
            },
            "type": "scattercarpet"
           }
          ],
          "scattergeo": [
           {
            "marker": {
             "colorbar": {
              "outlinewidth": 0,
              "ticks": ""
             }
            },
            "type": "scattergeo"
           }
          ],
          "scattergl": [
           {
            "marker": {
             "colorbar": {
              "outlinewidth": 0,
              "ticks": ""
             }
            },
            "type": "scattergl"
           }
          ],
          "scattermap": [
           {
            "marker": {
             "colorbar": {
              "outlinewidth": 0,
              "ticks": ""
             }
            },
            "type": "scattermap"
           }
          ],
          "scattermapbox": [
           {
            "marker": {
             "colorbar": {
              "outlinewidth": 0,
              "ticks": ""
             }
            },
            "type": "scattermapbox"
           }
          ],
          "scatterpolar": [
           {
            "marker": {
             "colorbar": {
              "outlinewidth": 0,
              "ticks": ""
             }
            },
            "type": "scatterpolar"
           }
          ],
          "scatterpolargl": [
           {
            "marker": {
             "colorbar": {
              "outlinewidth": 0,
              "ticks": ""
             }
            },
            "type": "scatterpolargl"
           }
          ],
          "scatterternary": [
           {
            "marker": {
             "colorbar": {
              "outlinewidth": 0,
              "ticks": ""
             }
            },
            "type": "scatterternary"
           }
          ],
          "surface": [
           {
            "colorbar": {
             "outlinewidth": 0,
             "ticks": ""
            },
            "colorscale": [
             [
              0,
              "#0d0887"
             ],
             [
              0.1111111111111111,
              "#46039f"
             ],
             [
              0.2222222222222222,
              "#7201a8"
             ],
             [
              0.3333333333333333,
              "#9c179e"
             ],
             [
              0.4444444444444444,
              "#bd3786"
             ],
             [
              0.5555555555555556,
              "#d8576b"
             ],
             [
              0.6666666666666666,
              "#ed7953"
             ],
             [
              0.7777777777777778,
              "#fb9f3a"
             ],
             [
              0.8888888888888888,
              "#fdca26"
             ],
             [
              1,
              "#f0f921"
             ]
            ],
            "type": "surface"
           }
          ],
          "table": [
           {
            "cells": {
             "fill": {
              "color": "#EBF0F8"
             },
             "line": {
              "color": "white"
             }
            },
            "header": {
             "fill": {
              "color": "#C8D4E3"
             },
             "line": {
              "color": "white"
             }
            },
            "type": "table"
           }
          ]
         },
         "layout": {
          "annotationdefaults": {
           "arrowcolor": "#2a3f5f",
           "arrowhead": 0,
           "arrowwidth": 1
          },
          "autotypenumbers": "strict",
          "coloraxis": {
           "colorbar": {
            "outlinewidth": 0,
            "ticks": ""
           }
          },
          "colorscale": {
           "diverging": [
            [
             0,
             "#8e0152"
            ],
            [
             0.1,
             "#c51b7d"
            ],
            [
             0.2,
             "#de77ae"
            ],
            [
             0.3,
             "#f1b6da"
            ],
            [
             0.4,
             "#fde0ef"
            ],
            [
             0.5,
             "#f7f7f7"
            ],
            [
             0.6,
             "#e6f5d0"
            ],
            [
             0.7,
             "#b8e186"
            ],
            [
             0.8,
             "#7fbc41"
            ],
            [
             0.9,
             "#4d9221"
            ],
            [
             1,
             "#276419"
            ]
           ],
           "sequential": [
            [
             0,
             "#0d0887"
            ],
            [
             0.1111111111111111,
             "#46039f"
            ],
            [
             0.2222222222222222,
             "#7201a8"
            ],
            [
             0.3333333333333333,
             "#9c179e"
            ],
            [
             0.4444444444444444,
             "#bd3786"
            ],
            [
             0.5555555555555556,
             "#d8576b"
            ],
            [
             0.6666666666666666,
             "#ed7953"
            ],
            [
             0.7777777777777778,
             "#fb9f3a"
            ],
            [
             0.8888888888888888,
             "#fdca26"
            ],
            [
             1,
             "#f0f921"
            ]
           ],
           "sequentialminus": [
            [
             0,
             "#0d0887"
            ],
            [
             0.1111111111111111,
             "#46039f"
            ],
            [
             0.2222222222222222,
             "#7201a8"
            ],
            [
             0.3333333333333333,
             "#9c179e"
            ],
            [
             0.4444444444444444,
             "#bd3786"
            ],
            [
             0.5555555555555556,
             "#d8576b"
            ],
            [
             0.6666666666666666,
             "#ed7953"
            ],
            [
             0.7777777777777778,
             "#fb9f3a"
            ],
            [
             0.8888888888888888,
             "#fdca26"
            ],
            [
             1,
             "#f0f921"
            ]
           ]
          },
          "colorway": [
           "#636efa",
           "#EF553B",
           "#00cc96",
           "#ab63fa",
           "#FFA15A",
           "#19d3f3",
           "#FF6692",
           "#B6E880",
           "#FF97FF",
           "#FECB52"
          ],
          "font": {
           "color": "#2a3f5f"
          },
          "geo": {
           "bgcolor": "white",
           "lakecolor": "white",
           "landcolor": "#E5ECF6",
           "showlakes": true,
           "showland": true,
           "subunitcolor": "white"
          },
          "hoverlabel": {
           "align": "left"
          },
          "hovermode": "closest",
          "mapbox": {
           "style": "light"
          },
          "paper_bgcolor": "white",
          "plot_bgcolor": "#E5ECF6",
          "polar": {
           "angularaxis": {
            "gridcolor": "white",
            "linecolor": "white",
            "ticks": ""
           },
           "bgcolor": "#E5ECF6",
           "radialaxis": {
            "gridcolor": "white",
            "linecolor": "white",
            "ticks": ""
           }
          },
          "scene": {
           "xaxis": {
            "backgroundcolor": "#E5ECF6",
            "gridcolor": "white",
            "gridwidth": 2,
            "linecolor": "white",
            "showbackground": true,
            "ticks": "",
            "zerolinecolor": "white"
           },
           "yaxis": {
            "backgroundcolor": "#E5ECF6",
            "gridcolor": "white",
            "gridwidth": 2,
            "linecolor": "white",
            "showbackground": true,
            "ticks": "",
            "zerolinecolor": "white"
           },
           "zaxis": {
            "backgroundcolor": "#E5ECF6",
            "gridcolor": "white",
            "gridwidth": 2,
            "linecolor": "white",
            "showbackground": true,
            "ticks": "",
            "zerolinecolor": "white"
           }
          },
          "shapedefaults": {
           "line": {
            "color": "#2a3f5f"
           }
          },
          "ternary": {
           "aaxis": {
            "gridcolor": "white",
            "linecolor": "white",
            "ticks": ""
           },
           "baxis": {
            "gridcolor": "white",
            "linecolor": "white",
            "ticks": ""
           },
           "bgcolor": "#E5ECF6",
           "caxis": {
            "gridcolor": "white",
            "linecolor": "white",
            "ticks": ""
           }
          },
          "title": {
           "x": 0.05
          },
          "xaxis": {
           "automargin": true,
           "gridcolor": "white",
           "linecolor": "white",
           "ticks": "",
           "title": {
            "standoff": 15
           },
           "zerolinecolor": "white",
           "zerolinewidth": 2
          },
          "yaxis": {
           "automargin": true,
           "gridcolor": "white",
           "linecolor": "white",
           "ticks": "",
           "title": {
            "standoff": 15
           },
           "zerolinecolor": "white",
           "zerolinewidth": 2
          }
         }
        },
        "title": {
         "text": "COVID Deaths by Age Group"
        },
        "xaxis": {
         "anchor": "y",
         "domain": [
          0,
          1
         ],
         "tickangle": -45,
         "title": {
          "text": "Age Group"
         }
        },
        "yaxis": {
         "anchor": "x",
         "domain": [
          0,
          1
         ],
         "title": {
          "text": "COVID Deaths"
         }
        }
       }
      }
     },
     "metadata": {},
     "output_type": "display_data"
    }
   ],
   "source": [
    "# Filter out the Age group rows\n",
    "df_age = df_us_clean[df_us_clean[\"group\"] == \"Age\"]\n",
    "\n",
    "# Aggregate the filtered data\n",
    "df_age_grouped = df_age.groupby(\"subgroup1\")[\"COVID_deaths\"].sum().reset_index()\n",
    "df_age_grouped[\"age_sort\"] = (\n",
    "    df_age_grouped[\"subgroup1\"].str.extract(r\"(\\d+)\").astype(int)\n",
    ")\n",
    "df_age_grouped = df_age_grouped.sort_values(\"age_sort\")\n",
    "\n",
    "# Visualize\n",
    "fig = px.bar(\n",
    "    df_age_grouped,\n",
    "    x=\"subgroup1\",\n",
    "    y=\"COVID_deaths\",\n",
    "    title=\"COVID Deaths by Age Group\",\n",
    "    labels={\"subgroup1\": \"Age Group\", \"COVID_deaths\": \"COVID Deaths\"},\n",
    "    color=\"COVID_deaths\",\n",
    "    color_continuous_scale=\"viridis\",\n",
    ")\n",
    "fig.update_layout(xaxis_tickangle=-45)\n",
    "fig.show()\n"
   ]
  },
  {
   "cell_type": "markdown",
   "id": "1796d275-cc34-4e2e-ae00-84bc09b60b25",
   "metadata": {},
   "source": [
    "# 🔹 Clustering Regions - by COVID Deaths & Crude Rate"
   ]
  },
  {
   "cell_type": "code",
   "execution_count": 22,
   "id": "ebb7eb30",
   "metadata": {},
   "outputs": [
    {
     "data": {
      "application/vnd.plotly.v1+json": {
       "config": {
        "plotlyServerURL": "https://plot.ly"
       },
       "data": [
        {
         "hovertemplate": "<b>%{hovertext}</b><br><br>COVID Deaths=%{x}<br>Crude COVID Rate=%{y}<br>cluster=%{marker.color}<extra></extra>",
         "hovertext": [
          "Region 1",
          "Region 10",
          "Region 2",
          "Region 3",
          "Region 4",
          "Region 5",
          "Region 6",
          "Region 7",
          "Region 8",
          "Region 9"
         ],
         "legendgroup": "",
         "marker": {
          "color": {
           "bdata": "AAAAAAAAAAAAAAAAAAAAAAIAAAAAAAAAAAAAAAAAAAAAAAAAAQAAAA==",
           "dtype": "i4"
          },
          "coloraxis": "coloraxis",
          "symbol": "circle"
         },
         "mode": "markers",
         "name": "",
         "orientation": "v",
         "showlegend": false,
         "type": "scatter",
         "x": {
          "bdata": "SOF6FK5HAUDfe++9994DQBphuacRlhNANJzUfXlsFUCIh4eHh8c1QAAAAAAAYBRAttZaa621IEBVVVVVVVXxP+ecc8455/Q/AAAAAAA8MEA=",
          "dtype": "f8"
         },
         "xaxis": "x",
         "y": {
          "bdata": "va8JQdn7uj9gsvwly1/CP6iDOqiDOsA/sPiKr/iKvz/J5o4rCczbP4QQQgghhLA/WwO8ICn/0D8YGBgYGBhoP/H4wwGPP2w/hOtRuB6F4z8=",
          "dtype": "f8"
         },
         "yaxis": "y"
        }
       ],
       "layout": {
        "coloraxis": {
         "colorbar": {
          "title": {
           "text": "cluster"
          }
         },
         "colorscale": [
          [
           0,
           "#0d0887"
          ],
          [
           0.1111111111111111,
           "#46039f"
          ],
          [
           0.2222222222222222,
           "#7201a8"
          ],
          [
           0.3333333333333333,
           "#9c179e"
          ],
          [
           0.4444444444444444,
           "#bd3786"
          ],
          [
           0.5555555555555556,
           "#d8576b"
          ],
          [
           0.6666666666666666,
           "#ed7953"
          ],
          [
           0.7777777777777778,
           "#fb9f3a"
          ],
          [
           0.8888888888888888,
           "#fdca26"
          ],
          [
           1,
           "#f0f921"
          ]
         ]
        },
        "legend": {
         "tracegroupgap": 0
        },
        "template": {
         "data": {
          "bar": [
           {
            "error_x": {
             "color": "#2a3f5f"
            },
            "error_y": {
             "color": "#2a3f5f"
            },
            "marker": {
             "line": {
              "color": "#E5ECF6",
              "width": 0.5
             },
             "pattern": {
              "fillmode": "overlay",
              "size": 10,
              "solidity": 0.2
             }
            },
            "type": "bar"
           }
          ],
          "barpolar": [
           {
            "marker": {
             "line": {
              "color": "#E5ECF6",
              "width": 0.5
             },
             "pattern": {
              "fillmode": "overlay",
              "size": 10,
              "solidity": 0.2
             }
            },
            "type": "barpolar"
           }
          ],
          "carpet": [
           {
            "aaxis": {
             "endlinecolor": "#2a3f5f",
             "gridcolor": "white",
             "linecolor": "white",
             "minorgridcolor": "white",
             "startlinecolor": "#2a3f5f"
            },
            "baxis": {
             "endlinecolor": "#2a3f5f",
             "gridcolor": "white",
             "linecolor": "white",
             "minorgridcolor": "white",
             "startlinecolor": "#2a3f5f"
            },
            "type": "carpet"
           }
          ],
          "choropleth": [
           {
            "colorbar": {
             "outlinewidth": 0,
             "ticks": ""
            },
            "type": "choropleth"
           }
          ],
          "contour": [
           {
            "colorbar": {
             "outlinewidth": 0,
             "ticks": ""
            },
            "colorscale": [
             [
              0,
              "#0d0887"
             ],
             [
              0.1111111111111111,
              "#46039f"
             ],
             [
              0.2222222222222222,
              "#7201a8"
             ],
             [
              0.3333333333333333,
              "#9c179e"
             ],
             [
              0.4444444444444444,
              "#bd3786"
             ],
             [
              0.5555555555555556,
              "#d8576b"
             ],
             [
              0.6666666666666666,
              "#ed7953"
             ],
             [
              0.7777777777777778,
              "#fb9f3a"
             ],
             [
              0.8888888888888888,
              "#fdca26"
             ],
             [
              1,
              "#f0f921"
             ]
            ],
            "type": "contour"
           }
          ],
          "contourcarpet": [
           {
            "colorbar": {
             "outlinewidth": 0,
             "ticks": ""
            },
            "type": "contourcarpet"
           }
          ],
          "heatmap": [
           {
            "colorbar": {
             "outlinewidth": 0,
             "ticks": ""
            },
            "colorscale": [
             [
              0,
              "#0d0887"
             ],
             [
              0.1111111111111111,
              "#46039f"
             ],
             [
              0.2222222222222222,
              "#7201a8"
             ],
             [
              0.3333333333333333,
              "#9c179e"
             ],
             [
              0.4444444444444444,
              "#bd3786"
             ],
             [
              0.5555555555555556,
              "#d8576b"
             ],
             [
              0.6666666666666666,
              "#ed7953"
             ],
             [
              0.7777777777777778,
              "#fb9f3a"
             ],
             [
              0.8888888888888888,
              "#fdca26"
             ],
             [
              1,
              "#f0f921"
             ]
            ],
            "type": "heatmap"
           }
          ],
          "histogram": [
           {
            "marker": {
             "pattern": {
              "fillmode": "overlay",
              "size": 10,
              "solidity": 0.2
             }
            },
            "type": "histogram"
           }
          ],
          "histogram2d": [
           {
            "colorbar": {
             "outlinewidth": 0,
             "ticks": ""
            },
            "colorscale": [
             [
              0,
              "#0d0887"
             ],
             [
              0.1111111111111111,
              "#46039f"
             ],
             [
              0.2222222222222222,
              "#7201a8"
             ],
             [
              0.3333333333333333,
              "#9c179e"
             ],
             [
              0.4444444444444444,
              "#bd3786"
             ],
             [
              0.5555555555555556,
              "#d8576b"
             ],
             [
              0.6666666666666666,
              "#ed7953"
             ],
             [
              0.7777777777777778,
              "#fb9f3a"
             ],
             [
              0.8888888888888888,
              "#fdca26"
             ],
             [
              1,
              "#f0f921"
             ]
            ],
            "type": "histogram2d"
           }
          ],
          "histogram2dcontour": [
           {
            "colorbar": {
             "outlinewidth": 0,
             "ticks": ""
            },
            "colorscale": [
             [
              0,
              "#0d0887"
             ],
             [
              0.1111111111111111,
              "#46039f"
             ],
             [
              0.2222222222222222,
              "#7201a8"
             ],
             [
              0.3333333333333333,
              "#9c179e"
             ],
             [
              0.4444444444444444,
              "#bd3786"
             ],
             [
              0.5555555555555556,
              "#d8576b"
             ],
             [
              0.6666666666666666,
              "#ed7953"
             ],
             [
              0.7777777777777778,
              "#fb9f3a"
             ],
             [
              0.8888888888888888,
              "#fdca26"
             ],
             [
              1,
              "#f0f921"
             ]
            ],
            "type": "histogram2dcontour"
           }
          ],
          "mesh3d": [
           {
            "colorbar": {
             "outlinewidth": 0,
             "ticks": ""
            },
            "type": "mesh3d"
           }
          ],
          "parcoords": [
           {
            "line": {
             "colorbar": {
              "outlinewidth": 0,
              "ticks": ""
             }
            },
            "type": "parcoords"
           }
          ],
          "pie": [
           {
            "automargin": true,
            "type": "pie"
           }
          ],
          "scatter": [
           {
            "fillpattern": {
             "fillmode": "overlay",
             "size": 10,
             "solidity": 0.2
            },
            "type": "scatter"
           }
          ],
          "scatter3d": [
           {
            "line": {
             "colorbar": {
              "outlinewidth": 0,
              "ticks": ""
             }
            },
            "marker": {
             "colorbar": {
              "outlinewidth": 0,
              "ticks": ""
             }
            },
            "type": "scatter3d"
           }
          ],
          "scattercarpet": [
           {
            "marker": {
             "colorbar": {
              "outlinewidth": 0,
              "ticks": ""
             }
            },
            "type": "scattercarpet"
           }
          ],
          "scattergeo": [
           {
            "marker": {
             "colorbar": {
              "outlinewidth": 0,
              "ticks": ""
             }
            },
            "type": "scattergeo"
           }
          ],
          "scattergl": [
           {
            "marker": {
             "colorbar": {
              "outlinewidth": 0,
              "ticks": ""
             }
            },
            "type": "scattergl"
           }
          ],
          "scattermap": [
           {
            "marker": {
             "colorbar": {
              "outlinewidth": 0,
              "ticks": ""
             }
            },
            "type": "scattermap"
           }
          ],
          "scattermapbox": [
           {
            "marker": {
             "colorbar": {
              "outlinewidth": 0,
              "ticks": ""
             }
            },
            "type": "scattermapbox"
           }
          ],
          "scatterpolar": [
           {
            "marker": {
             "colorbar": {
              "outlinewidth": 0,
              "ticks": ""
             }
            },
            "type": "scatterpolar"
           }
          ],
          "scatterpolargl": [
           {
            "marker": {
             "colorbar": {
              "outlinewidth": 0,
              "ticks": ""
             }
            },
            "type": "scatterpolargl"
           }
          ],
          "scatterternary": [
           {
            "marker": {
             "colorbar": {
              "outlinewidth": 0,
              "ticks": ""
             }
            },
            "type": "scatterternary"
           }
          ],
          "surface": [
           {
            "colorbar": {
             "outlinewidth": 0,
             "ticks": ""
            },
            "colorscale": [
             [
              0,
              "#0d0887"
             ],
             [
              0.1111111111111111,
              "#46039f"
             ],
             [
              0.2222222222222222,
              "#7201a8"
             ],
             [
              0.3333333333333333,
              "#9c179e"
             ],
             [
              0.4444444444444444,
              "#bd3786"
             ],
             [
              0.5555555555555556,
              "#d8576b"
             ],
             [
              0.6666666666666666,
              "#ed7953"
             ],
             [
              0.7777777777777778,
              "#fb9f3a"
             ],
             [
              0.8888888888888888,
              "#fdca26"
             ],
             [
              1,
              "#f0f921"
             ]
            ],
            "type": "surface"
           }
          ],
          "table": [
           {
            "cells": {
             "fill": {
              "color": "#EBF0F8"
             },
             "line": {
              "color": "white"
             }
            },
            "header": {
             "fill": {
              "color": "#C8D4E3"
             },
             "line": {
              "color": "white"
             }
            },
            "type": "table"
           }
          ]
         },
         "layout": {
          "annotationdefaults": {
           "arrowcolor": "#2a3f5f",
           "arrowhead": 0,
           "arrowwidth": 1
          },
          "autotypenumbers": "strict",
          "coloraxis": {
           "colorbar": {
            "outlinewidth": 0,
            "ticks": ""
           }
          },
          "colorscale": {
           "diverging": [
            [
             0,
             "#8e0152"
            ],
            [
             0.1,
             "#c51b7d"
            ],
            [
             0.2,
             "#de77ae"
            ],
            [
             0.3,
             "#f1b6da"
            ],
            [
             0.4,
             "#fde0ef"
            ],
            [
             0.5,
             "#f7f7f7"
            ],
            [
             0.6,
             "#e6f5d0"
            ],
            [
             0.7,
             "#b8e186"
            ],
            [
             0.8,
             "#7fbc41"
            ],
            [
             0.9,
             "#4d9221"
            ],
            [
             1,
             "#276419"
            ]
           ],
           "sequential": [
            [
             0,
             "#0d0887"
            ],
            [
             0.1111111111111111,
             "#46039f"
            ],
            [
             0.2222222222222222,
             "#7201a8"
            ],
            [
             0.3333333333333333,
             "#9c179e"
            ],
            [
             0.4444444444444444,
             "#bd3786"
            ],
            [
             0.5555555555555556,
             "#d8576b"
            ],
            [
             0.6666666666666666,
             "#ed7953"
            ],
            [
             0.7777777777777778,
             "#fb9f3a"
            ],
            [
             0.8888888888888888,
             "#fdca26"
            ],
            [
             1,
             "#f0f921"
            ]
           ],
           "sequentialminus": [
            [
             0,
             "#0d0887"
            ],
            [
             0.1111111111111111,
             "#46039f"
            ],
            [
             0.2222222222222222,
             "#7201a8"
            ],
            [
             0.3333333333333333,
             "#9c179e"
            ],
            [
             0.4444444444444444,
             "#bd3786"
            ],
            [
             0.5555555555555556,
             "#d8576b"
            ],
            [
             0.6666666666666666,
             "#ed7953"
            ],
            [
             0.7777777777777778,
             "#fb9f3a"
            ],
            [
             0.8888888888888888,
             "#fdca26"
            ],
            [
             1,
             "#f0f921"
            ]
           ]
          },
          "colorway": [
           "#636efa",
           "#EF553B",
           "#00cc96",
           "#ab63fa",
           "#FFA15A",
           "#19d3f3",
           "#FF6692",
           "#B6E880",
           "#FF97FF",
           "#FECB52"
          ],
          "font": {
           "color": "#2a3f5f"
          },
          "geo": {
           "bgcolor": "white",
           "lakecolor": "white",
           "landcolor": "#E5ECF6",
           "showlakes": true,
           "showland": true,
           "subunitcolor": "white"
          },
          "hoverlabel": {
           "align": "left"
          },
          "hovermode": "closest",
          "mapbox": {
           "style": "light"
          },
          "paper_bgcolor": "white",
          "plot_bgcolor": "#E5ECF6",
          "polar": {
           "angularaxis": {
            "gridcolor": "white",
            "linecolor": "white",
            "ticks": ""
           },
           "bgcolor": "#E5ECF6",
           "radialaxis": {
            "gridcolor": "white",
            "linecolor": "white",
            "ticks": ""
           }
          },
          "scene": {
           "xaxis": {
            "backgroundcolor": "#E5ECF6",
            "gridcolor": "white",
            "gridwidth": 2,
            "linecolor": "white",
            "showbackground": true,
            "ticks": "",
            "zerolinecolor": "white"
           },
           "yaxis": {
            "backgroundcolor": "#E5ECF6",
            "gridcolor": "white",
            "gridwidth": 2,
            "linecolor": "white",
            "showbackground": true,
            "ticks": "",
            "zerolinecolor": "white"
           },
           "zaxis": {
            "backgroundcolor": "#E5ECF6",
            "gridcolor": "white",
            "gridwidth": 2,
            "linecolor": "white",
            "showbackground": true,
            "ticks": "",
            "zerolinecolor": "white"
           }
          },
          "shapedefaults": {
           "line": {
            "color": "#2a3f5f"
           }
          },
          "ternary": {
           "aaxis": {
            "gridcolor": "white",
            "linecolor": "white",
            "ticks": ""
           },
           "baxis": {
            "gridcolor": "white",
            "linecolor": "white",
            "ticks": ""
           },
           "bgcolor": "#E5ECF6",
           "caxis": {
            "gridcolor": "white",
            "linecolor": "white",
            "ticks": ""
           }
          },
          "title": {
           "x": 0.05
          },
          "xaxis": {
           "automargin": true,
           "gridcolor": "white",
           "linecolor": "white",
           "ticks": "",
           "title": {
            "standoff": 15
           },
           "zerolinecolor": "white",
           "zerolinewidth": 2
          },
          "yaxis": {
           "automargin": true,
           "gridcolor": "white",
           "linecolor": "white",
           "ticks": "",
           "title": {
            "standoff": 15
           },
           "zerolinecolor": "white",
           "zerolinewidth": 2
          }
         }
        },
        "title": {
         "text": "Clustering Regions by COVID-19 Deaths and Crude COVID Rate"
        },
        "xaxis": {
         "anchor": "y",
         "domain": [
          0,
          1
         ],
         "title": {
          "text": "COVID Deaths"
         }
        },
        "yaxis": {
         "anchor": "x",
         "domain": [
          0,
          1
         ],
         "title": {
          "text": "Crude COVID Rate"
         }
        }
       }
      }
     },
     "metadata": {},
     "output_type": "display_data"
    }
   ],
   "source": [
    "# Filter the most recent data, excluding the national aggregate\n",
    "df_latest = df[df[\"date\"] == df[\"date\"].max()]\n",
    "df_latest = df_latest[df_latest[\"jurisdiction_residence\"] != \"United States\"]\n",
    "\n",
    "# Ensure numeric columns\n",
    "df_latest[\"COVID_deaths\"] = pd.to_numeric(df_latest[\"COVID_deaths\"], errors=\"coerce\")\n",
    "df_latest[\"crude_COVID_rate\"] = pd.to_numeric(df_latest[\"crude_COVID_rate\"], errors=\"coerce\")\n",
    "\n",
    "# Compute average deaths and crude rates by jurisdiction, dropping any rows with missing values\n",
    "cluster_df = (\n",
    "    df_latest.groupby(\"jurisdiction_residence\", as_index=False)\n",
    "    .agg({\"COVID_deaths\": \"mean\", \"crude_COVID_rate\": \"mean\"})\n",
    "    .dropna()\n",
    ")\n",
    "\n",
    "# Standardize the features for clustering\n",
    "X = StandardScaler().fit_transform(cluster_df[[\"COVID_deaths\", \"crude_COVID_rate\"]])\n",
    "\n",
    "# Apply K-means clustering with 3 clusters\n",
    "kmeans = KMeans(n_clusters=3, random_state=42)\n",
    "cluster_df[\"cluster\"] = kmeans.fit_predict(X)\n",
    "\n",
    "# Create a scatter plot to visualize the clustering results\n",
    "fig = px.scatter(\n",
    "    cluster_df,\n",
    "    x=\"COVID_deaths\",\n",
    "    y=\"crude_COVID_rate\",\n",
    "    color=\"cluster\",\n",
    "    hover_name=\"jurisdiction_residence\",\n",
    "    title=\"Clustering Regions by COVID-19 Deaths and Crude COVID Rate\",\n",
    "    labels={\"COVID_deaths\": \"COVID Deaths\", \"crude_COVID_rate\": \"Crude COVID Rate\"},\n",
    ")\n",
    "fig.show()\n"
   ]
  },
  {
   "cell_type": "markdown",
   "id": "680187d0-9b2b-4799-97eb-8cee7ad35544",
   "metadata": {},
   "source": [
    "# 🔹 COVID-19 Deaths Forecast (6 Months)"
   ]
  },
  {
   "cell_type": "code",
   "execution_count": 23,
   "id": "cb347824",
   "metadata": {},
   "outputs": [
    {
     "data": {
      "application/vnd.plotly.v1+json": {
       "config": {
        "plotlyServerURL": "https://plot.ly"
       },
       "data": [
        {
         "mode": "lines+markers",
         "name": "Actual",
         "type": "scatter",
         "x": [
          "2020-01-01T00:00:00.000000000",
          "2020-02-01T00:00:00.000000000",
          "2020-03-01T00:00:00.000000000",
          "2020-04-01T00:00:00.000000000",
          "2020-05-01T00:00:00.000000000",
          "2020-06-01T00:00:00.000000000",
          "2020-07-01T00:00:00.000000000",
          "2020-08-01T00:00:00.000000000",
          "2020-09-01T00:00:00.000000000",
          "2020-10-01T00:00:00.000000000",
          "2020-11-01T00:00:00.000000000",
          "2020-12-01T00:00:00.000000000",
          "2021-01-01T00:00:00.000000000",
          "2021-02-01T00:00:00.000000000",
          "2021-03-01T00:00:00.000000000",
          "2021-04-01T00:00:00.000000000",
          "2021-05-01T00:00:00.000000000",
          "2021-06-01T00:00:00.000000000",
          "2021-07-01T00:00:00.000000000",
          "2021-08-01T00:00:00.000000000",
          "2021-09-01T00:00:00.000000000",
          "2021-10-01T00:00:00.000000000",
          "2021-11-01T00:00:00.000000000",
          "2021-12-01T00:00:00.000000000",
          "2022-01-01T00:00:00.000000000",
          "2022-02-01T00:00:00.000000000",
          "2022-03-01T00:00:00.000000000",
          "2022-04-01T00:00:00.000000000",
          "2022-05-01T00:00:00.000000000",
          "2022-06-01T00:00:00.000000000",
          "2022-07-01T00:00:00.000000000",
          "2022-08-01T00:00:00.000000000",
          "2022-09-01T00:00:00.000000000",
          "2022-10-01T00:00:00.000000000",
          "2022-11-01T00:00:00.000000000",
          "2022-12-01T00:00:00.000000000",
          "2023-01-01T00:00:00.000000000",
          "2023-02-01T00:00:00.000000000",
          "2023-03-01T00:00:00.000000000",
          "2023-04-01T00:00:00.000000000",
          "2023-05-01T00:00:00.000000000",
          "2023-06-01T00:00:00.000000000",
          "2023-07-01T00:00:00.000000000",
          "2023-08-01T00:00:00.000000000",
          "2023-09-01T00:00:00.000000000",
          "2023-10-01T00:00:00.000000000",
          "2023-11-01T00:00:00.000000000",
          "2023-12-01T00:00:00.000000000",
          "2024-01-01T00:00:00.000000000",
          "2024-02-01T00:00:00.000000000",
          "2024-03-01T00:00:00.000000000",
          "2024-04-01T00:00:00.000000000",
          "2024-05-01T00:00:00.000000000",
          "2024-06-01T00:00:00.000000000",
          "2024-07-01T00:00:00.000000000",
          "2024-08-01T00:00:00.000000000",
          "2024-09-01T00:00:00.000000000",
          "2024-10-01T00:00:00.000000000",
          "2024-11-01T00:00:00.000000000",
          "2024-12-01T00:00:00.000000000",
          "2025-01-01T00:00:00.000000000",
          "2025-02-01T00:00:00.000000000",
          "2025-03-01T00:00:00.000000000",
          "2025-04-01T00:00:00.000000000",
          "2025-05-01T00:00:00.000000000",
          "2025-06-01T00:00:00.000000000",
          "2025-07-01T00:00:00.000000000",
          "2025-08-01T00:00:00.000000000"
         ],
         "y": {
          "bdata": "AAAAAAAAOEAAAAAAAIBZQAAAAAAAmtxAAAAAAJhHEEEAAAAAgAQDQQAAAAAA4PFAAAAAAICy/kAAAAAAAIT9QAAAAABA9PJAAAAAAOCG+EAAAAAAUDQKQQAAAAAwThhBAAAAALBBGkEAAAAAYCsIQQAAAADAJ/dAAAAAANCe8kAAAAAAQI3tQAAAAAAAgd9AAAAAAIAM5kAAAAAAoPUHQQAAAABgHA9BAAAAAEDlBEEAAAAAQLf/QAAAAACIYwZBAAAAALyvFEEAAAAAEMwIQQAAAABA2+5AAAAAAID32EAAAAAAAE3eQAAAAACA9+JAAAAAAACk6kAAAAAAABLsQAAAAADAFeZAAAAAAEBH40AAAAAAAAHkQAAAAADAwOxAAAAAAEB07UAAAAAAAMzhQAAAAACAFt5AAAAAAIBx1EAAAAAAAP7LQAAAAAAAhsRAAAAAAADEwkAAAAAAgBTQQAAAAACAlddAAAAAAABb10AAAAAAgJnYQAAAAAAAA+FAAAAAAMBF5EAAAAAAANbXQAAAAACAdNBAAAAAAACWwUAAAAAAAEi4QAAAAAAApLpAAAAAAACDyUAAAAAAAJjUQAAAAACAYtNAAAAAAAAwykAAAAAAAHbBQAAAAAAAbcVAAAAAAAAt0UAAAAAAABnIQAAAAAAAC8JAAAAAAADuuEAAAAAAAAywQAAAAAAAYKhAAAAAAABYqkAAAAAAAO6yQA==",
          "dtype": "f8"
         }
        },
        {
         "mode": "lines+markers",
         "name": "Forecast",
         "type": "scatter",
         "x": [
          "2025-09-01T00:00:00.000000000",
          "2025-10-01T00:00:00.000000000",
          "2025-11-01T00:00:00.000000000",
          "2025-12-01T00:00:00.000000000",
          "2026-01-01T00:00:00.000000000",
          "2026-02-01T00:00:00.000000000"
         ],
         "y": {
          "bdata": "01I0n2fjtEB+4qogEqqvQN8kV11sKrFABpSXIe1NvECHOgT0HYi7QIVD+zMWwbBA",
          "dtype": "f8"
         }
        }
       ],
       "layout": {
        "template": {
         "data": {
          "bar": [
           {
            "error_x": {
             "color": "#2a3f5f"
            },
            "error_y": {
             "color": "#2a3f5f"
            },
            "marker": {
             "line": {
              "color": "#E5ECF6",
              "width": 0.5
             },
             "pattern": {
              "fillmode": "overlay",
              "size": 10,
              "solidity": 0.2
             }
            },
            "type": "bar"
           }
          ],
          "barpolar": [
           {
            "marker": {
             "line": {
              "color": "#E5ECF6",
              "width": 0.5
             },
             "pattern": {
              "fillmode": "overlay",
              "size": 10,
              "solidity": 0.2
             }
            },
            "type": "barpolar"
           }
          ],
          "carpet": [
           {
            "aaxis": {
             "endlinecolor": "#2a3f5f",
             "gridcolor": "white",
             "linecolor": "white",
             "minorgridcolor": "white",
             "startlinecolor": "#2a3f5f"
            },
            "baxis": {
             "endlinecolor": "#2a3f5f",
             "gridcolor": "white",
             "linecolor": "white",
             "minorgridcolor": "white",
             "startlinecolor": "#2a3f5f"
            },
            "type": "carpet"
           }
          ],
          "choropleth": [
           {
            "colorbar": {
             "outlinewidth": 0,
             "ticks": ""
            },
            "type": "choropleth"
           }
          ],
          "contour": [
           {
            "colorbar": {
             "outlinewidth": 0,
             "ticks": ""
            },
            "colorscale": [
             [
              0,
              "#0d0887"
             ],
             [
              0.1111111111111111,
              "#46039f"
             ],
             [
              0.2222222222222222,
              "#7201a8"
             ],
             [
              0.3333333333333333,
              "#9c179e"
             ],
             [
              0.4444444444444444,
              "#bd3786"
             ],
             [
              0.5555555555555556,
              "#d8576b"
             ],
             [
              0.6666666666666666,
              "#ed7953"
             ],
             [
              0.7777777777777778,
              "#fb9f3a"
             ],
             [
              0.8888888888888888,
              "#fdca26"
             ],
             [
              1,
              "#f0f921"
             ]
            ],
            "type": "contour"
           }
          ],
          "contourcarpet": [
           {
            "colorbar": {
             "outlinewidth": 0,
             "ticks": ""
            },
            "type": "contourcarpet"
           }
          ],
          "heatmap": [
           {
            "colorbar": {
             "outlinewidth": 0,
             "ticks": ""
            },
            "colorscale": [
             [
              0,
              "#0d0887"
             ],
             [
              0.1111111111111111,
              "#46039f"
             ],
             [
              0.2222222222222222,
              "#7201a8"
             ],
             [
              0.3333333333333333,
              "#9c179e"
             ],
             [
              0.4444444444444444,
              "#bd3786"
             ],
             [
              0.5555555555555556,
              "#d8576b"
             ],
             [
              0.6666666666666666,
              "#ed7953"
             ],
             [
              0.7777777777777778,
              "#fb9f3a"
             ],
             [
              0.8888888888888888,
              "#fdca26"
             ],
             [
              1,
              "#f0f921"
             ]
            ],
            "type": "heatmap"
           }
          ],
          "histogram": [
           {
            "marker": {
             "pattern": {
              "fillmode": "overlay",
              "size": 10,
              "solidity": 0.2
             }
            },
            "type": "histogram"
           }
          ],
          "histogram2d": [
           {
            "colorbar": {
             "outlinewidth": 0,
             "ticks": ""
            },
            "colorscale": [
             [
              0,
              "#0d0887"
             ],
             [
              0.1111111111111111,
              "#46039f"
             ],
             [
              0.2222222222222222,
              "#7201a8"
             ],
             [
              0.3333333333333333,
              "#9c179e"
             ],
             [
              0.4444444444444444,
              "#bd3786"
             ],
             [
              0.5555555555555556,
              "#d8576b"
             ],
             [
              0.6666666666666666,
              "#ed7953"
             ],
             [
              0.7777777777777778,
              "#fb9f3a"
             ],
             [
              0.8888888888888888,
              "#fdca26"
             ],
             [
              1,
              "#f0f921"
             ]
            ],
            "type": "histogram2d"
           }
          ],
          "histogram2dcontour": [
           {
            "colorbar": {
             "outlinewidth": 0,
             "ticks": ""
            },
            "colorscale": [
             [
              0,
              "#0d0887"
             ],
             [
              0.1111111111111111,
              "#46039f"
             ],
             [
              0.2222222222222222,
              "#7201a8"
             ],
             [
              0.3333333333333333,
              "#9c179e"
             ],
             [
              0.4444444444444444,
              "#bd3786"
             ],
             [
              0.5555555555555556,
              "#d8576b"
             ],
             [
              0.6666666666666666,
              "#ed7953"
             ],
             [
              0.7777777777777778,
              "#fb9f3a"
             ],
             [
              0.8888888888888888,
              "#fdca26"
             ],
             [
              1,
              "#f0f921"
             ]
            ],
            "type": "histogram2dcontour"
           }
          ],
          "mesh3d": [
           {
            "colorbar": {
             "outlinewidth": 0,
             "ticks": ""
            },
            "type": "mesh3d"
           }
          ],
          "parcoords": [
           {
            "line": {
             "colorbar": {
              "outlinewidth": 0,
              "ticks": ""
             }
            },
            "type": "parcoords"
           }
          ],
          "pie": [
           {
            "automargin": true,
            "type": "pie"
           }
          ],
          "scatter": [
           {
            "fillpattern": {
             "fillmode": "overlay",
             "size": 10,
             "solidity": 0.2
            },
            "type": "scatter"
           }
          ],
          "scatter3d": [
           {
            "line": {
             "colorbar": {
              "outlinewidth": 0,
              "ticks": ""
             }
            },
            "marker": {
             "colorbar": {
              "outlinewidth": 0,
              "ticks": ""
             }
            },
            "type": "scatter3d"
           }
          ],
          "scattercarpet": [
           {
            "marker": {
             "colorbar": {
              "outlinewidth": 0,
              "ticks": ""
             }
            },
            "type": "scattercarpet"
           }
          ],
          "scattergeo": [
           {
            "marker": {
             "colorbar": {
              "outlinewidth": 0,
              "ticks": ""
             }
            },
            "type": "scattergeo"
           }
          ],
          "scattergl": [
           {
            "marker": {
             "colorbar": {
              "outlinewidth": 0,
              "ticks": ""
             }
            },
            "type": "scattergl"
           }
          ],
          "scattermap": [
           {
            "marker": {
             "colorbar": {
              "outlinewidth": 0,
              "ticks": ""
             }
            },
            "type": "scattermap"
           }
          ],
          "scattermapbox": [
           {
            "marker": {
             "colorbar": {
              "outlinewidth": 0,
              "ticks": ""
             }
            },
            "type": "scattermapbox"
           }
          ],
          "scatterpolar": [
           {
            "marker": {
             "colorbar": {
              "outlinewidth": 0,
              "ticks": ""
             }
            },
            "type": "scatterpolar"
           }
          ],
          "scatterpolargl": [
           {
            "marker": {
             "colorbar": {
              "outlinewidth": 0,
              "ticks": ""
             }
            },
            "type": "scatterpolargl"
           }
          ],
          "scatterternary": [
           {
            "marker": {
             "colorbar": {
              "outlinewidth": 0,
              "ticks": ""
             }
            },
            "type": "scatterternary"
           }
          ],
          "surface": [
           {
            "colorbar": {
             "outlinewidth": 0,
             "ticks": ""
            },
            "colorscale": [
             [
              0,
              "#0d0887"
             ],
             [
              0.1111111111111111,
              "#46039f"
             ],
             [
              0.2222222222222222,
              "#7201a8"
             ],
             [
              0.3333333333333333,
              "#9c179e"
             ],
             [
              0.4444444444444444,
              "#bd3786"
             ],
             [
              0.5555555555555556,
              "#d8576b"
             ],
             [
              0.6666666666666666,
              "#ed7953"
             ],
             [
              0.7777777777777778,
              "#fb9f3a"
             ],
             [
              0.8888888888888888,
              "#fdca26"
             ],
             [
              1,
              "#f0f921"
             ]
            ],
            "type": "surface"
           }
          ],
          "table": [
           {
            "cells": {
             "fill": {
              "color": "#EBF0F8"
             },
             "line": {
              "color": "white"
             }
            },
            "header": {
             "fill": {
              "color": "#C8D4E3"
             },
             "line": {
              "color": "white"
             }
            },
            "type": "table"
           }
          ]
         },
         "layout": {
          "annotationdefaults": {
           "arrowcolor": "#2a3f5f",
           "arrowhead": 0,
           "arrowwidth": 1
          },
          "autotypenumbers": "strict",
          "coloraxis": {
           "colorbar": {
            "outlinewidth": 0,
            "ticks": ""
           }
          },
          "colorscale": {
           "diverging": [
            [
             0,
             "#8e0152"
            ],
            [
             0.1,
             "#c51b7d"
            ],
            [
             0.2,
             "#de77ae"
            ],
            [
             0.3,
             "#f1b6da"
            ],
            [
             0.4,
             "#fde0ef"
            ],
            [
             0.5,
             "#f7f7f7"
            ],
            [
             0.6,
             "#e6f5d0"
            ],
            [
             0.7,
             "#b8e186"
            ],
            [
             0.8,
             "#7fbc41"
            ],
            [
             0.9,
             "#4d9221"
            ],
            [
             1,
             "#276419"
            ]
           ],
           "sequential": [
            [
             0,
             "#0d0887"
            ],
            [
             0.1111111111111111,
             "#46039f"
            ],
            [
             0.2222222222222222,
             "#7201a8"
            ],
            [
             0.3333333333333333,
             "#9c179e"
            ],
            [
             0.4444444444444444,
             "#bd3786"
            ],
            [
             0.5555555555555556,
             "#d8576b"
            ],
            [
             0.6666666666666666,
             "#ed7953"
            ],
            [
             0.7777777777777778,
             "#fb9f3a"
            ],
            [
             0.8888888888888888,
             "#fdca26"
            ],
            [
             1,
             "#f0f921"
            ]
           ],
           "sequentialminus": [
            [
             0,
             "#0d0887"
            ],
            [
             0.1111111111111111,
             "#46039f"
            ],
            [
             0.2222222222222222,
             "#7201a8"
            ],
            [
             0.3333333333333333,
             "#9c179e"
            ],
            [
             0.4444444444444444,
             "#bd3786"
            ],
            [
             0.5555555555555556,
             "#d8576b"
            ],
            [
             0.6666666666666666,
             "#ed7953"
            ],
            [
             0.7777777777777778,
             "#fb9f3a"
            ],
            [
             0.8888888888888888,
             "#fdca26"
            ],
            [
             1,
             "#f0f921"
            ]
           ]
          },
          "colorway": [
           "#636efa",
           "#EF553B",
           "#00cc96",
           "#ab63fa",
           "#FFA15A",
           "#19d3f3",
           "#FF6692",
           "#B6E880",
           "#FF97FF",
           "#FECB52"
          ],
          "font": {
           "color": "#2a3f5f"
          },
          "geo": {
           "bgcolor": "white",
           "lakecolor": "white",
           "landcolor": "#E5ECF6",
           "showlakes": true,
           "showland": true,
           "subunitcolor": "white"
          },
          "hoverlabel": {
           "align": "left"
          },
          "hovermode": "closest",
          "mapbox": {
           "style": "light"
          },
          "paper_bgcolor": "white",
          "plot_bgcolor": "#E5ECF6",
          "polar": {
           "angularaxis": {
            "gridcolor": "white",
            "linecolor": "white",
            "ticks": ""
           },
           "bgcolor": "#E5ECF6",
           "radialaxis": {
            "gridcolor": "white",
            "linecolor": "white",
            "ticks": ""
           }
          },
          "scene": {
           "xaxis": {
            "backgroundcolor": "#E5ECF6",
            "gridcolor": "white",
            "gridwidth": 2,
            "linecolor": "white",
            "showbackground": true,
            "ticks": "",
            "zerolinecolor": "white"
           },
           "yaxis": {
            "backgroundcolor": "#E5ECF6",
            "gridcolor": "white",
            "gridwidth": 2,
            "linecolor": "white",
            "showbackground": true,
            "ticks": "",
            "zerolinecolor": "white"
           },
           "zaxis": {
            "backgroundcolor": "#E5ECF6",
            "gridcolor": "white",
            "gridwidth": 2,
            "linecolor": "white",
            "showbackground": true,
            "ticks": "",
            "zerolinecolor": "white"
           }
          },
          "shapedefaults": {
           "line": {
            "color": "#2a3f5f"
           }
          },
          "ternary": {
           "aaxis": {
            "gridcolor": "white",
            "linecolor": "white",
            "ticks": ""
           },
           "baxis": {
            "gridcolor": "white",
            "linecolor": "white",
            "ticks": ""
           },
           "bgcolor": "#E5ECF6",
           "caxis": {
            "gridcolor": "white",
            "linecolor": "white",
            "ticks": ""
           }
          },
          "title": {
           "x": 0.05
          },
          "xaxis": {
           "automargin": true,
           "gridcolor": "white",
           "linecolor": "white",
           "ticks": "",
           "title": {
            "standoff": 15
           },
           "zerolinecolor": "white",
           "zerolinewidth": 2
          },
          "yaxis": {
           "automargin": true,
           "gridcolor": "white",
           "linecolor": "white",
           "ticks": "",
           "title": {
            "standoff": 15
           },
           "zerolinecolor": "white",
           "zerolinewidth": 2
          }
         }
        },
        "title": {
         "text": "COVID-19 Death Forecast (6 months)"
        },
        "xaxis": {
         "title": {
          "text": "Date"
         }
        },
        "yaxis": {
         "title": {
          "text": "Deaths"
         }
        }
       }
      }
     },
     "metadata": {},
     "output_type": "display_data"
    }
   ],
   "source": [
    "# Fit a Holt-Winters Exponential Smoothing model to the monthly national COVID-19 deaths\n",
    "# - 'trend=\"mul\"' and 'seasonal=\"mul\"' specify a multiplicative model for both trend and seasonality\n",
    "# - 'seasonal_periods=12' assumes a yearly seasonality (12 months)\n",
    "model = ExponentialSmoothing(\n",
    "    df_monthly[\"COVID_deaths\"], trend=\"mul\", seasonal=\"mul\", seasonal_periods=12\n",
    ")\n",
    "\n",
    "# Fit the model to the historical data\n",
    "model_fit = model.fit()\n",
    "\n",
    "# Forecast the next 6 months of COVID-19 deaths\n",
    "forecast = model_fit.forecast(6)\n",
    "\n",
    "# Create a Plotly figure to visualize the actual and forecasted deaths\n",
    "fig = go.Figure()\n",
    "\n",
    "# Add actual historical death data as a line with markers\n",
    "fig.add_trace(\n",
    "    go.Scatter(\n",
    "        x=df_monthly[\"date\"],\n",
    "        y=df_monthly[\"COVID_deaths\"],\n",
    "        mode=\"lines+markers\",\n",
    "        name=\"Actual\",\n",
    "    )\n",
    ")\n",
    "\n",
    "# Generate the future date range corresponding to the forecast period (6 months ahead)\n",
    "forecast_dates = pd.date_range(\n",
    "    df_monthly[\"date\"].iloc[-1] + pd.DateOffset(months=1), periods=6, freq=\"MS\"\n",
    ")\n",
    "\n",
    "# Add forecasted data to the plot as another line\n",
    "fig.add_trace(\n",
    "    go.Scatter(x=forecast_dates, y=forecast, mode=\"lines+markers\", name=\"Forecast\")\n",
    ")\n",
    "\n",
    "# Customize the plot layout with titles and axis labels\n",
    "fig.update_layout(\n",
    "    title=\"COVID-19 Death Forecast (6 months)\", xaxis_title=\"Date\", yaxis_title=\"Deaths\"\n",
    ")\n",
    "\n",
    "# Display the figure\n",
    "fig.show()\n"
   ]
  },
  {
   "cell_type": "markdown",
   "id": "bc6746c6-1aae-478f-b61e-851676d8b64a",
   "metadata": {},
   "source": [
    "# 🔹 Dashboard Visualization using Dash"
   ]
  },
  {
   "cell_type": "code",
   "execution_count": 24,
   "id": "f5c01230",
   "metadata": {},
   "outputs": [],
   "source": [
    "# %pip install dash"
   ]
  },
  {
   "cell_type": "code",
   "execution_count": 25,
   "id": "74e9834f-59dd-4e29-b70c-5b1206dfcba7",
   "metadata": {},
   "outputs": [
    {
     "data": {
      "text/html": [
       "\n",
       "        <iframe\n",
       "            width=\"100%\"\n",
       "            height=\"650\"\n",
       "            src=\"http://127.0.0.1:8050/\"\n",
       "            frameborder=\"0\"\n",
       "            allowfullscreen\n",
       "            \n",
       "        ></iframe>\n",
       "        "
      ],
      "text/plain": [
       "<IPython.lib.display.IFrame at 0x136525250>"
      ]
     },
     "metadata": {},
     "output_type": "display_data"
    }
   ],
   "source": [
    "# Note: The Dash app will run on http://127.0.0.1:8050/\n",
    "\n",
    "# Import the dash framework\n",
    "from dash import Dash, html, dcc, Input, Output\n",
    "\n",
    "# Load data\n",
    "df = pd.read_csv(\"COVID_19_Dataset.csv\")\n",
    "df[\"data_as_of\"] = pd.to_datetime(df[\"data_as_of\"], errors=\"coerce\")\n",
    "# Fix 'year' and 'month' columns first\n",
    "df[\"year\"] = (\n",
    "    df[\"year\"].astype(str).str.replace(\",\", \"\", regex=True).str.strip()\n",
    ")\n",
    "df[\"year\"] = pd.to_numeric(df[\"year\"], errors=\"coerce\").astype(\"Int64\")\n",
    "\n",
    "df[\"month\"] = pd.to_numeric(df[\"month\"], errors=\"coerce\").astype(\"Int64\")\n",
    "\n",
    "# Convert 'data_as_of' to datetime\n",
    "df[\"data_as_of\"] = pd.to_datetime(df[\"data_as_of\"], errors=\"coerce\")\n",
    "\n",
    "# Create a proper 'date' column\n",
    "df[\"date\"] = pd.to_datetime(\n",
    "    df[[\"year\", \"month\"]].assign(day=1), errors=\"coerce\"\n",
    ")\n",
    "\n",
    "# --- Clean numeric columns ---\n",
    "for col in [\"COVID_deaths\", \"crude_COVID_rate\", \"aa_COVID_rate\"]:\n",
    "    df[col] = (\n",
    "        df[col]\n",
    "        .astype(str)\n",
    "        .str.replace(\",\", \"\", regex=True)  # remove commas like \"1,234\"\n",
    "        .str.strip()\n",
    "    )\n",
    "    df[col] = pd.to_numeric(df[col], errors=\"coerce\")\n",
    "\n",
    "\n",
    "df = df.dropna(subset=[\"COVID_deaths\"])\n",
    "\n",
    "# Create dropdown options\n",
    "jurisdictions = sorted(df[\"jurisdiction_residence\"].unique())\n",
    "years = sorted(df[\"year\"].dropna().unique().astype(int))\n",
    "\n",
    "# Clustering on the latest data\n",
    "# Clustering on the latest data\n",
    "df_latest = df[df[\"date\"] == df[\"date\"].max()]\n",
    "df_latest = df_latest[df_latest[\"jurisdiction_residence\"] != \"United States\"]\n",
    "\n",
    "cluster_df = (\n",
    "    df_latest.groupby(\"jurisdiction_residence\", as_index=False)\n",
    "    .agg({\"COVID_deaths\": \"mean\", \"crude_COVID_rate\": \"mean\"})\n",
    "    .dropna()\n",
    ")\n",
    "\n",
    "X = StandardScaler().fit_transform(cluster_df[[\"COVID_deaths\", \"crude_COVID_rate\"]])\n",
    "kmeans = KMeans(n_clusters=3, random_state=42)\n",
    "cluster_df[\"cluster\"] = kmeans.fit_predict(X)\n",
    "\n",
    "\n",
    "# Forecast model (always based on national data)\n",
    "df_monthly = (\n",
    "    df[df[\"jurisdiction_residence\"] == \"United States\"]\n",
    "    .groupby(\"date\")[\"COVID_deaths\"]\n",
    "    .sum()\n",
    "    .reset_index()\n",
    ")\n",
    "try:\n",
    "    model = ExponentialSmoothing(\n",
    "        df_monthly[\"COVID_deaths\"], trend=\"mul\", seasonal=\"mul\", seasonal_periods=12\n",
    "    )\n",
    "    model_fit = model.fit()\n",
    "    forecast = model_fit.forecast(6)\n",
    "    forecast_dates = pd.date_range(\n",
    "        df_monthly[\"date\"].iloc[-1] + pd.DateOffset(months=1), periods=6, freq=\"MS\"\n",
    "    )\n",
    "except:\n",
    "    forecast = []\n",
    "    forecast_dates = []\n",
    "\n",
    "# Choropleth prep\n",
    "region_to_states = {\n",
    "    \"Region 1\": [\n",
    "        \"Connecticut\",\n",
    "        \"Maine\",\n",
    "        \"Massachusetts\",\n",
    "        \"New Hampshire\",\n",
    "        \"Rhode Island\",\n",
    "        \"Vermont\",\n",
    "    ],\n",
    "    \"Region 2\": [\"New Jersey\", \"New York\"],\n",
    "    \"Region 3\": [\n",
    "        \"Delaware\",\n",
    "        \"District of Columbia\",\n",
    "        \"Maryland\",\n",
    "        \"Pennsylvania\",\n",
    "        \"Virginia\",\n",
    "        \"West Virginia\",\n",
    "    ],\n",
    "    \"Region 4\": [\n",
    "        \"Alabama\",\n",
    "        \"Florida\",\n",
    "        \"Georgia\",\n",
    "        \"Kentucky\",\n",
    "        \"Mississippi\",\n",
    "        \"North Carolina\",\n",
    "        \"South Carolina\",\n",
    "        \"Tennessee\",\n",
    "    ],\n",
    "    \"Region 5\": [\"Illinois\", \"Indiana\", \"Michigan\", \"Minnesota\", \"Ohio\", \"Wisconsin\"],\n",
    "    \"Region 6\": [\"Arkansas\", \"Louisiana\", \"New Mexico\", \"Oklahoma\", \"Texas\"],\n",
    "    \"Region 7\": [\"Iowa\", \"Kansas\", \"Missouri\", \"Nebraska\"],\n",
    "    \"Region 8\": [\n",
    "        \"Colorado\",\n",
    "        \"Montana\",\n",
    "        \"North Dakota\",\n",
    "        \"South Dakota\",\n",
    "        \"Utah\",\n",
    "        \"Wyoming\",\n",
    "    ],\n",
    "    \"Region 9\": [\"Arizona\", \"California\", \"Hawaii\", \"Nevada\"],\n",
    "    \"Region 10\": [\"Alaska\", \"Idaho\", \"Oregon\", \"Washington\"],\n",
    "}\n",
    "latest_date = df[\"date\"].max()\n",
    "df_latest_state = df[df[\"date\"] == latest_date].copy()\n",
    "df_latest_state[\"states\"] = df_latest_state[\"jurisdiction_residence\"].map(\n",
    "    region_to_states\n",
    ")\n",
    "df_latest_state = df_latest_state.explode(\"states\")\n",
    "df_latest_state[\"jurisdiction_residence\"] = df_latest_state[\"states\"].combine_first(\n",
    "    df_latest_state[\"jurisdiction_residence\"]\n",
    ")\n",
    "df_state_level = df_latest_state.groupby(\"jurisdiction_residence\", as_index=False).agg(\n",
    "    {\"crude_COVID_rate\": \"mean\", \"COVID_deaths\": \"sum\"}\n",
    ")\n",
    "\n",
    "state_abbr = {\n",
    "    \"Alabama\": \"AL\",\n",
    "    \"Alaska\": \"AK\",\n",
    "    \"Arizona\": \"AZ\",\n",
    "    \"Arkansas\": \"AR\",\n",
    "    \"California\": \"CA\",\n",
    "    \"Colorado\": \"CO\",\n",
    "    \"Connecticut\": \"CT\",\n",
    "    \"Delaware\": \"DE\",\n",
    "    \"District of Columbia\": \"DC\",\n",
    "    \"Florida\": \"FL\",\n",
    "    \"Georgia\": \"GA\",\n",
    "    \"Hawaii\": \"HI\",\n",
    "    \"Idaho\": \"ID\",\n",
    "    \"Illinois\": \"IL\",\n",
    "    \"Indiana\": \"IN\",\n",
    "    \"Iowa\": \"IA\",\n",
    "    \"Kansas\": \"KS\",\n",
    "    \"Kentucky\": \"KY\",\n",
    "    \"Louisiana\": \"LA\",\n",
    "    \"Maine\": \"ME\",\n",
    "    \"Maryland\": \"MD\",\n",
    "    \"Massachusetts\": \"MA\",\n",
    "    \"Michigan\": \"MI\",\n",
    "    \"Minnesota\": \"MN\",\n",
    "    \"Mississippi\": \"MS\",\n",
    "    \"Missouri\": \"MO\",\n",
    "    \"Montana\": \"MT\",\n",
    "    \"Nebraska\": \"NE\",\n",
    "    \"Nevada\": \"NV\",\n",
    "    \"New Hampshire\": \"NH\",\n",
    "    \"New Jersey\": \"NJ\",\n",
    "    \"New Mexico\": \"NM\",\n",
    "    \"New York\": \"NY\",\n",
    "    \"North Carolina\": \"NC\",\n",
    "    \"North Dakota\": \"ND\",\n",
    "    \"Ohio\": \"OH\",\n",
    "    \"Oklahoma\": \"OK\",\n",
    "    \"Oregon\": \"OR\",\n",
    "    \"Pennsylvania\": \"PA\",\n",
    "    \"Rhode Island\": \"RI\",\n",
    "    \"South Carolina\": \"SC\",\n",
    "    \"South Dakota\": \"SD\",\n",
    "    \"Tennessee\": \"TN\",\n",
    "    \"Texas\": \"TX\",\n",
    "    \"Utah\": \"UT\",\n",
    "    \"Vermont\": \"VT\",\n",
    "    \"Virginia\": \"VA\",\n",
    "    \"Washington\": \"WA\",\n",
    "    \"West Virginia\": \"WV\",\n",
    "    \"Wisconsin\": \"WI\",\n",
    "    \"Wyoming\": \"WY\",\n",
    "}\n",
    "df_state_level[\"jurisdiction_residence\"] = df_state_level[\"jurisdiction_residence\"].map(\n",
    "    state_abbr\n",
    ")\n",
    "\n",
    "# App initialization\n",
    "app = Dash(__name__)\n",
    "app.title = \"COVID-19 Deaths - United States\"\n",
    "\n",
    "# ===== GLOBAL STYLE =====\n",
    "app.layout = html.Div(\n",
    "    style={\n",
    "        \"fontFamily\": \"Arial, sans-serif\",\n",
    "        \"backgroundColor\": \"#f8f9fa\",\n",
    "        \"color\": \"#212529\",\n",
    "        \"padding\": \"20px\",\n",
    "    },\n",
    "    children=[\n",
    "        # Header\n",
    "        html.Div(\n",
    "            className=\"header\",\n",
    "            style={\n",
    "                \"textAlign\": \"center\",\n",
    "                \"marginBottom\": \"20px\",\n",
    "                \"padding\": \"10px\",\n",
    "                \"backgroundColor\": \"#2c3e50\",\n",
    "                \"color\": \"white\",\n",
    "                \"borderRadius\": \"10px\",\n",
    "                \"boxShadow\": \"0 4px 6px rgba(0,0,0,0.2)\",\n",
    "            },\n",
    "            children=[html.H1(\"COVID-19 Deaths - United States\")],\n",
    "        ),\n",
    "\n",
    "        # Filters\n",
    "        html.Div(\n",
    "            className=\"filters-row\",\n",
    "            style={\"display\": \"flex\", \"gap\": \"20px\", \"marginBottom\": \"20px\"},\n",
    "            children=[\n",
    "                html.Div(\n",
    "                    [\n",
    "                        html.Label(\"Select Jurisdiction:\", style={\"fontWeight\": \"bold\"}),\n",
    "                        dcc.Dropdown(\n",
    "                            id=\"jurisdiction-dropdown\",\n",
    "                            options=[{\"label\": j, \"value\": j} for j in jurisdictions],\n",
    "                            value=\"United States\",\n",
    "                            style={\"backgroundColor\": \"white\"},\n",
    "                        ),\n",
    "                    ],\n",
    "                    style={\"flex\": 1},\n",
    "                ),\n",
    "                html.Div(\n",
    "                    [\n",
    "                        html.Label(\"Select Year:\", style={\"fontWeight\": \"bold\"}),\n",
    "                        dcc.Dropdown(\n",
    "                            id=\"year-dropdown\",\n",
    "                            options=[{\"label\": \"Overall\", \"value\": \"Overall\"}]\n",
    "                            + [{\"label\": y, \"value\": y} for y in years],\n",
    "                            value=\"Overall\",\n",
    "                            style={\"backgroundColor\": \"white\"},\n",
    "                        ),\n",
    "                    ],\n",
    "                    style={\"flex\": 1},\n",
    "                ),\n",
    "            ],\n",
    "        ),\n",
    "\n",
    "        # KPI Row\n",
    "        html.Div(\n",
    "            className=\"kpi-row\",\n",
    "            style={\n",
    "                \"display\": \"flex\",\n",
    "                \"justifyContent\": \"space-between\",\n",
    "                \"flexWrap\": \"wrap\",\n",
    "                \"gap\": \"15px\",\n",
    "                \"marginBottom\": \"30px\",\n",
    "            },\n",
    "            children=[\n",
    "                html.Div(\n",
    "                    className=\"kpi-card\",\n",
    "                    style={\n",
    "                        \"flex\": \"1\",\n",
    "                        \"padding\": \"20px\",\n",
    "                        \"backgroundColor\": \"white\",\n",
    "                        \"borderRadius\": \"12px\",\n",
    "                        \"boxShadow\": \"0 4px 8px rgba(0,0,0,0.1)\",\n",
    "                        \"textAlign\": \"center\",\n",
    "                    },\n",
    "                    children=[html.H3(\"Total Deaths\"), html.H1(id=\"total-deaths\")],\n",
    "                ),\n",
    "                html.Div(\n",
    "                    className=\"kpi-card\",\n",
    "                    style={\n",
    "                        \"flex\": \"1\",\n",
    "                        \"padding\": \"20px\",\n",
    "                        \"backgroundColor\": \"white\",\n",
    "                        \"borderRadius\": \"12px\",\n",
    "                        \"boxShadow\": \"0 4px 8px rgba(0,0,0,0.1)\",\n",
    "                        \"textAlign\": \"center\",\n",
    "                    },\n",
    "                    children=[html.H3(\"Crude Rate\"), html.H1(id=\"crude-rate\")],\n",
    "                ),\n",
    "                html.Div(\n",
    "                    className=\"kpi-card\",\n",
    "                    style={\n",
    "                        \"flex\": \"1\",\n",
    "                        \"padding\": \"20px\",\n",
    "                        \"backgroundColor\": \"white\",\n",
    "                        \"borderRadius\": \"12px\",\n",
    "                        \"boxShadow\": \"0 4px 8px rgba(0,0,0,0.1)\",\n",
    "                        \"textAlign\": \"center\",\n",
    "                    },\n",
    "                    children=[\n",
    "                        html.H3(\"Age-Adjusted Rate\"),\n",
    "                        html.H1(id=\"age-adjusted-rate\"),\n",
    "                    ],\n",
    "                ),\n",
    "                html.Div(\n",
    "                    className=\"kpi-card\",\n",
    "                    style={\n",
    "                        \"flex\": \"1\",\n",
    "                        \"padding\": \"20px\",\n",
    "                        \"backgroundColor\": \"white\",\n",
    "                        \"borderRadius\": \"12px\",\n",
    "                        \"boxShadow\": \"0 4px 8px rgba(0,0,0,0.1)\",\n",
    "                        \"textAlign\": \"center\",\n",
    "                    },\n",
    "                    children=[\n",
    "                        html.H3(\"Crude Rate (Annualized)\"),\n",
    "                        html.H1(id=\"crude-rate-ann\"),\n",
    "                    ],\n",
    "                ),\n",
    "                html.Div(\n",
    "                    className=\"kpi-card\",\n",
    "                    style={\n",
    "                        \"flex\": \"1\",\n",
    "                        \"padding\": \"20px\",\n",
    "                        \"backgroundColor\": \"white\",\n",
    "                        \"borderRadius\": \"12px\",\n",
    "                        \"boxShadow\": \"0 4px 8px rgba(0,0,0,0.1)\",\n",
    "                        \"textAlign\": \"center\",\n",
    "                    },\n",
    "                    children=[\n",
    "                        html.H3(\"Age-Adjusted Rate (Annualized)\"),\n",
    "                        html.H1(id=\"age-adjusted-rate-ann\"),\n",
    "                    ],\n",
    "                ),\n",
    "            ],\n",
    "        ),\n",
    "\n",
    "        # Charts Grid\n",
    "        html.Div(\n",
    "            className=\"chart-grid\",\n",
    "            style={\n",
    "                \"display\": \"grid\",\n",
    "                \"gridTemplateColumns\": \"repeat(2, 1fr)\",\n",
    "                \"gap\": \"20px\",\n",
    "            },\n",
    "            children=[\n",
    "                html.Div(\n",
    "                    className=\"card\",\n",
    "                    style={\n",
    "                        \"backgroundColor\": \"white\",\n",
    "                        \"padding\": \"15px\",\n",
    "                        \"borderRadius\": \"12px\",\n",
    "                        \"boxShadow\": \"0 4px 8px rgba(0,0,0,0.1)\",\n",
    "                    },\n",
    "                    children=[dcc.Graph(id=\"deaths-over-time\")],\n",
    "                ),\n",
    "                html.Div(\n",
    "                    className=\"card\",\n",
    "                    style={\n",
    "                        \"backgroundColor\": \"white\",\n",
    "                        \"padding\": \"15px\",\n",
    "                        \"borderRadius\": \"12px\",\n",
    "                        \"boxShadow\": \"0 4px 8px rgba(0,0,0,0.1)\",\n",
    "                    },\n",
    "                    children=[dcc.Graph(id=\"deaths-by-race\")],\n",
    "                ),\n",
    "                html.Div(\n",
    "                    className=\"card\",\n",
    "                    style={\n",
    "                        \"backgroundColor\": \"white\",\n",
    "                        \"padding\": \"15px\",\n",
    "                        \"borderRadius\": \"12px\",\n",
    "                        \"boxShadow\": \"0 4px 8px rgba(0,0,0,0.1)\",\n",
    "                    },\n",
    "                    children=[dcc.Graph(id=\"deaths-by-age\")],\n",
    "                ),\n",
    "                html.Div(\n",
    "                    className=\"card\",\n",
    "                    style={\n",
    "                        \"backgroundColor\": \"white\",\n",
    "                        \"padding\": \"15px\",\n",
    "                        \"borderRadius\": \"12px\",\n",
    "                        \"boxShadow\": \"0 4px 8px rgba(0,0,0,0.1)\",\n",
    "                    },\n",
    "                    children=[dcc.Graph(id=\"cluster-chart\")],\n",
    "                ),\n",
    "                html.Div(\n",
    "                    className=\"card\",\n",
    "                    style={\n",
    "                        \"backgroundColor\": \"white\",\n",
    "                        \"padding\": \"15px\",\n",
    "                        \"borderRadius\": \"12px\",\n",
    "                        \"boxShadow\": \"0 4px 8px rgba(0,0,0,0.1)\",\n",
    "                        \"gridColumn\": \"span 2\",\n",
    "                    },\n",
    "                    children=[dcc.Graph(id=\"choropleth-map\")],\n",
    "                ),\n",
    "                html.Div(\n",
    "                    className=\"card\",\n",
    "                    style={\n",
    "                        \"backgroundColor\": \"white\",\n",
    "                        \"padding\": \"15px\",\n",
    "                        \"borderRadius\": \"12px\",\n",
    "                        \"boxShadow\": \"0 4px 8px rgba(0,0,0,0.1)\",\n",
    "                        \"gridColumn\": \"span 2\",\n",
    "                    },\n",
    "                    children=[dcc.Graph(id=\"forecast-chart\")],\n",
    "                ),\n",
    "            ],\n",
    "        ),\n",
    "    ]\n",
    ")\n",
    "\n",
    "\n",
    "# KPI Callback\n",
    "@app.callback(\n",
    "    Output(\"total-deaths\", \"children\"),\n",
    "    Output(\"crude-rate\", \"children\"),\n",
    "    Output(\"age-adjusted-rate\", \"children\"),\n",
    "    Output(\"crude-rate-ann\", \"children\"),\n",
    "    Output(\"age-adjusted-rate-ann\", \"children\"),\n",
    "    [Input(\"jurisdiction-dropdown\", \"value\"), Input(\"year-dropdown\", \"value\")],\n",
    ")\n",
    "def update_kpis(jurisdiction, year):\n",
    "    # Filter data based on jurisdiction and year\n",
    "    if year == \"Overall\":\n",
    "        dff = df[df[\"jurisdiction_residence\"] == jurisdiction]\n",
    "    else:\n",
    "        dff = df[(df[\"jurisdiction_residence\"] == jurisdiction) & (df[\"year\"] == year)]\n",
    "\n",
    "    # Calculate KPIs\n",
    "    total = int(dff[\"COVID_deaths\"].sum())\n",
    "    crude = dff[\"crude_COVID_rate\"].mean()\n",
    "    adj = dff[\"aa_COVID_rate\"].mean()\n",
    "    crude_ann = crude * 12 if pd.notna(crude) else None\n",
    "    adj_ann = adj * 12 if pd.notna(adj) else None\n",
    "\n",
    "    return (\n",
    "        f\"{total:,}\",\n",
    "        f\"{crude:.2f}\",\n",
    "        f\"{adj:.2f}\",\n",
    "        f\"{crude_ann:.2f}\",\n",
    "        f\"{adj_ann:.2f}\",\n",
    "    )\n",
    "\n",
    "\n",
    "# Charts Callback\n",
    "@app.callback(\n",
    "    Output(\"deaths-over-time\", \"figure\"),\n",
    "    Output(\"deaths-by-race\", \"figure\"),\n",
    "    Output(\"deaths-by-age\", \"figure\"),\n",
    "    Output(\"cluster-chart\", \"figure\"),\n",
    "    Output(\"choropleth-map\", \"figure\"),\n",
    "    Output(\"forecast-chart\", \"figure\"),\n",
    "    [Input(\"jurisdiction-dropdown\", \"value\"), Input(\"year-dropdown\", \"value\")],\n",
    ")\n",
    "def update_dashboard(jurisdiction, year):\n",
    "    # Filter data based on jurisdiction and year\n",
    "    if year == \"Overall\":\n",
    "        dff = df[df[\"jurisdiction_residence\"] == jurisdiction]\n",
    "    else:\n",
    "        dff = df[(df[\"jurisdiction_residence\"] == jurisdiction) & (df[\"year\"] == year)]\n",
    "\n",
    "    # Time Series\n",
    "    ts_data = dff.groupby(\"date\")[\"COVID_deaths\"].sum().reset_index()\n",
    "    ts_fig = px.line(\n",
    "        ts_data,\n",
    "        x=\"date\",\n",
    "        y=\"COVID_deaths\",\n",
    "        title=\"COVID-19 Deaths Over Time\",\n",
    "        labels={\"date\": \"Date\", \"COVID_deaths\": \"Deaths\"},\n",
    "        markers=True,\n",
    "    )\n",
    "\n",
    "    # Race\n",
    "    race_map = {\n",
    "        \"Hispanic\": \"Hispanic\",\n",
    "        \"Non-Hispanic American Indian or Alaska Native\": \"AI/AN\",\n",
    "        \"Non-Hispanic Asian\": \"Asian\",\n",
    "        \"Non-Hispanic Asian, Native Hawaiian or Other Pacific Islander\": \"Asian/PI\",\n",
    "        \"Non-Hispanic Black\": \"Black\",\n",
    "        \"Non-Hispanic Native Hawaiian or Other Pacific Islander\": \"Native Hawaiian/PI\",\n",
    "        \"Non-Hispanic White\": \"White\",\n",
    "    }\n",
    "    race_df = (\n",
    "        dff[dff[\"group\"] == \"Race\"]\n",
    "        .groupby(\"subgroup1\")[\"COVID_deaths\"]\n",
    "        .sum()\n",
    "        .reset_index()\n",
    "    )\n",
    "    race_df[\"race\"] = race_df[\"subgroup1\"].map(race_map).fillna(race_df[\"subgroup1\"])\n",
    "    race_fig = px.bar(\n",
    "        race_df,\n",
    "        x=\"race\",\n",
    "        y=\"COVID_deaths\",\n",
    "        title=\"COVID-19 Deaths by Race\",\n",
    "        labels={\"race\": \"Race\", \"COVID_deaths\": \"Deaths\"},\n",
    "        color=\"COVID_deaths\",\n",
    "        color_continuous_scale=\"viridis\",\n",
    "    )\n",
    "    race_fig.update_layout(xaxis_tickangle=45, legend_title=\"Deaths\")\n",
    "\n",
    "    # Age\n",
    "    df_age = dff[dff[\"group\"] == \"Age\"]\n",
    "    df_age_grouped = df_age.groupby(\"subgroup1\")[\"COVID_deaths\"].sum().reset_index()\n",
    "\n",
    "    df_age_grouped[\"age_sort\"] = (\n",
    "        df_age_grouped[\"subgroup1\"].str.extract(r\"(\\d+)\").astype(int)\n",
    "    )\n",
    "    df_age_grouped = df_age_grouped.sort_values(\"age_sort\")\n",
    "\n",
    "    age_fig = px.bar(\n",
    "        df_age_grouped,\n",
    "        x=\"subgroup1\",\n",
    "        y=\"COVID_deaths\",\n",
    "        title=\"COVID-19 Deaths by Age\",\n",
    "        labels={\"subgroup1\": \"Age Group\", \"COVID_deaths\": \"Deaths\"},\n",
    "        color=\"COVID_deaths\",\n",
    "        color_continuous_scale=\"viridis\",\n",
    "    )\n",
    "    age_fig.update_layout(xaxis_tickangle=45, legend_title=\"Deaths\")\n",
    "\n",
    "    # Cluster\n",
    "    cluster_fig = px.scatter(\n",
    "        cluster_df,\n",
    "        x=\"COVID_deaths\",\n",
    "        y=\"crude_COVID_rate\",\n",
    "        color=\"cluster\",\n",
    "        hover_name=\"jurisdiction_residence\",\n",
    "        title=\"Clustering of Regions by COVID Death Rates\",\n",
    "        # color_continuous_scale='viridis',\n",
    "        labels={\"COVID_deaths\": \"COVID Deaths\", \"crude_COVID_rate\": \"Crude COVID Rate\"},\n",
    "    )\n",
    "\n",
    "    # Choropleth\n",
    "    choropleth_fig = px.choropleth(\n",
    "        df_state_level,\n",
    "        locations=\"jurisdiction_residence\",\n",
    "        locationmode=\"USA-states\",\n",
    "        color=\"crude_COVID_rate\",\n",
    "        hover_name=\"jurisdiction_residence\",\n",
    "        title=\"State-wise COVID Death Rates\",\n",
    "        labels={\"crude_COVID_rate\": \"Crude Rate\"},\n",
    "        color_continuous_scale=\"blues\",\n",
    "        scope=\"usa\",\n",
    "    )\n",
    "\n",
    "    # Forecast\n",
    "    forecast_fig = go.Figure()\n",
    "    forecast_fig.add_trace(\n",
    "        go.Scatter(\n",
    "            x=df_monthly[\"date\"],\n",
    "            y=df_monthly[\"COVID_deaths\"],\n",
    "            mode=\"lines+markers\",\n",
    "            name=\"Actual\",\n",
    "        )\n",
    "    )\n",
    "    if len(forecast) > 0:\n",
    "        forecast_fig.add_trace(\n",
    "            go.Scatter(\n",
    "                x=forecast_dates, y=forecast, mode=\"lines+markers\", name=\"Forecast\"\n",
    "            )\n",
    "        )\n",
    "    forecast_fig.update_layout(\n",
    "        title=\"COVID-19 Death Forecast\", xaxis_title=\"Date\", yaxis_title=\"Deaths\"\n",
    "    )\n",
    "\n",
    "    return ts_fig, race_fig, age_fig, cluster_fig, choropleth_fig, forecast_fig\n",
    "\n",
    "\n",
    "if __name__ == \"__main__\":\n",
    "    app.run(debug=True)\n"
   ]
  },
  {
   "cell_type": "markdown",
   "id": "5537046e-6892-4e24-932e-d1caae316e9b",
   "metadata": {},
   "source": [
    "# Thank You"
   ]
  }
 ],
 "metadata": {
  "kernelspec": {
   "display_name": "Python 3",
   "language": "python",
   "name": "python3"
  },
  "language_info": {
   "codemirror_mode": {
    "name": "ipython",
    "version": 3
   },
   "file_extension": ".py",
   "mimetype": "text/x-python",
   "name": "python",
   "nbconvert_exporter": "python",
   "pygments_lexer": "ipython3",
   "version": "3.9.6"
  }
 },
 "nbformat": 4,
 "nbformat_minor": 5
}
